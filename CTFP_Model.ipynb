{
  "nbformat": 4,
  "nbformat_minor": 0,
  "metadata": {
    "colab": {
      "provenance": [],
      "collapsed_sections": [],
      "authorship_tag": "ABX9TyN8BkaHxn6Phs/xloNZMS/f"
    },
    "kernelspec": {
      "name": "python3",
      "display_name": "Python 3"
    },
    "language_info": {
      "name": "python"
    }
  },
  "cells": [
    {
      "cell_type": "code",
      "source": [
        "pip install mip"
      ],
      "metadata": {
        "colab": {
          "base_uri": "https://localhost:8080/"
        },
        "id": "A5TKwFlNGqa0",
        "outputId": "6005db2a-72df-4bdd-896d-b7a434953716"
      },
      "execution_count": null,
      "outputs": [
        {
          "output_type": "stream",
          "name": "stdout",
          "text": [
            "Looking in indexes: https://pypi.org/simple, https://us-python.pkg.dev/colab-wheels/public/simple/\n",
            "Collecting mip\n",
            "  Downloading mip-1.14.0-py3-none-any.whl (15.3 MB)\n",
            "\u001b[K     |████████████████████████████████| 15.3 MB 5.3 MB/s \n",
            "\u001b[?25hRequirement already satisfied: cffi in /usr/local/lib/python3.7/dist-packages (from mip) (1.15.1)\n",
            "Requirement already satisfied: pycparser in /usr/local/lib/python3.7/dist-packages (from cffi->mip) (2.21)\n",
            "Installing collected packages: mip\n",
            "Successfully installed mip-1.14.0\n"
          ]
        }
      ]
    },
    {
      "cell_type": "code",
      "source": [
        "import numpy as np\n",
        "from mip import Model, xsum, maximize, BINARY, LinExpr"
      ],
      "metadata": {
        "id": "YN9oqZmLGn5Q"
      },
      "execution_count": null,
      "outputs": []
    },
    {
      "cell_type": "code",
      "execution_count": null,
      "metadata": {
        "colab": {
          "base_uri": "https://localhost:8080/"
        },
        "id": "s7e_0hYV6WRp",
        "outputId": "6cdad99a-ccf8-4fb5-de68-ef04ebaeb377"
      },
      "outputs": [
        {
          "output_type": "stream",
          "name": "stdout",
          "text": [
            "x[0][1][1]\n",
            "x[0][2][0]\n",
            "x[0][6][0]\n",
            "x[1][0][0]\n",
            "x[1][3][0]\n",
            "x[1][5][1]\n",
            "x[1][7][0]\n"
          ]
        }
      ],
      "source": [
        "individuals = 8\n",
        "relationships = np.zeros(individuals*individuals, dtype=np.int64).reshape(individuals,individuals)\n",
        "\n",
        "relationships[0,3] = relationships[3,0] = 1\n",
        "relationships[0,1] = relationships[1,0] = -1\n",
        "relationships[1,3] = relationships[3,1] = -1\n",
        "relationships[1,4] = relationships[4,1] = 1\n",
        "relationships[2,3] = relationships[3,2] = -1\n",
        "relationships[2,4] = relationships[4,2] = -1\n",
        "relationships[2,6] = relationships[6,2] = 1\n",
        "relationships[2,7] = relationships[7,2] = -1\n",
        "relationships[4,5] = relationships[5,4] = -1\n",
        "relationships[4,6] = relationships[6,4] = 1\n",
        "relationships[4,7] = relationships[7,4] = -1\n",
        "relationships[6,7] = relationships[7,6] = -1\n",
        "\n",
        "skills = np.arange(2)\n",
        "teams = np.arange(2)\n",
        "\n",
        "def demand(team, skill):\n",
        "  return 1 #neste caso cada time precisa de uma pessoa para cada skill\n",
        "\n",
        "def indSkillSet(individual):\n",
        "  return np.arange(individual % 2 + 1) #individuo ímpar tem as duas skills, o par tem apenas a skill 0\n",
        "\n",
        "def demandSkillSet(team):\n",
        "  return np.arange(skills.size) #cada time precisa de uma pessoa para cada skill, logo cada time precisa de todas as skils\n",
        "\n",
        "def indDemandSkillSet(individual, team):\n",
        "  return np.intersect1d(indSkillSet(individual), demandSkillSet(team)) #retorna as skills que o time demanda e que o indíviduo possui\n",
        "\n",
        "model = Model(\"CTFP\")\n",
        "\n",
        "x = [[[model.add_var(var_type=BINARY) for s in indSkillSet(u)] for u in range(individuals)] for t in teams]\n",
        "\n",
        "model.objective = maximize(xsum( xsum( xsum( x[t][u][s] for s in indSkillSet(u) ) for u in range(individuals) ) for t in teams))\n",
        "\n",
        "for t in teams:\n",
        "  for u in range(individuals):\n",
        "    for v in range(individuals):\n",
        "      if relationships[u,v] == -1:\n",
        "        model += xsum(x[t][u][s] for s in indSkillSet(u)) + xsum(x[t][v][s] for s in indSkillSet(v)) <= 1\n",
        "\n",
        "for t1 in teams:\n",
        "  for t2 in np.arange(t1+1, teams.size, 1):\n",
        "    for u in range(individuals):\n",
        "      for v in range(individuals):\n",
        "        if relationships[u,v] == 1:\n",
        "          model += xsum(x[t1][u][s] for s in indSkillSet(u)) + xsum(x[t2][v][s] for s in indSkillSet(v)) <= 1\n",
        "\n",
        "for u in range(individuals):\n",
        "  model += xsum( xsum( x[t][u][s] for s in indSkillSet(u)) for t in teams) <= 1\n",
        "\n",
        "for t in teams:\n",
        "  for s in demandSkillSet(t):\n",
        "    model += xsum( x[t][u][s] for u in range(individuals) if s in indSkillSet(u)) >= demand(t, s)\n",
        "\n",
        "model.optimize()\n",
        "\n",
        "for t in teams:\n",
        "  for u in range(individuals):\n",
        "    for s in indSkillSet(u):\n",
        "      if x[t][u][s].x == 1:\n",
        "        print(f'x[{t}][{u}][{s}]')\n",
        "        "
      ]
    }
  ]
}