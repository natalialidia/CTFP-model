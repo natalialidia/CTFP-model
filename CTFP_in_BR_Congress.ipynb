{
  "cells": [
    {
      "cell_type": "code",
      "execution_count": 55,
      "metadata": {
        "colab": {
          "base_uri": "https://localhost:8080/"
        },
        "id": "JKpq9D5EtjY_",
        "outputId": "e7dff335-ebd1-46a9-ef65-a4ef3571169a"
      },
      "outputs": [
        {
          "output_type": "stream",
          "name": "stdout",
          "text": [
            "Looking in indexes: https://pypi.org/simple, https://us-python.pkg.dev/colab-wheels/public/simple/\n",
            "Requirement already satisfied: mip in /usr/local/lib/python3.8/dist-packages (1.15.0)\n",
            "Requirement already satisfied: cffi==1.15.* in /usr/local/lib/python3.8/dist-packages (from mip) (1.15.1)\n",
            "Requirement already satisfied: pycparser in /usr/local/lib/python3.8/dist-packages (from cffi==1.15.*->mip) (2.21)\n"
          ]
        }
      ],
      "source": [
        "pip install mip"
      ]
    },
    {
      "cell_type": "code",
      "execution_count": 56,
      "metadata": {
        "id": "YN9oqZmLGn5Q"
      },
      "outputs": [],
      "source": [
        "import numpy as np\n",
        "import urllib.request \n",
        "from mip import Model, xsum, maximize, BINARY, LinExpr"
      ]
    },
    {
      "cell_type": "code",
      "execution_count": 58,
      "metadata": {
        "id": "s7e_0hYV6WRp"
      },
      "outputs": [],
      "source": [
        "def CTFPFunction(graphUrl, skillsUrl, secondarySkillsUrl, numTeams, teamUsersProportion, graphSep = \"\\n\", numUsersSep = \" \", skillsSep = \"\\n\", numSkillsSep = \" \"):\n",
        "\n",
        "  #1 - CRIANDO MATRIZ DE ADJACÊNCIA DAS RELAÇÕES ENTRE OS USUÁRIOS\n",
        "  graph = urllib.request.urlopen(graphUrl).read().decode('utf-8').split(graphSep)\n",
        "  del graph[-1] #vazio\n",
        "\n",
        "  numUsers = int(graph[0].split(numUsersSep)[0])\n",
        "  relationships = np.zeros(numUsers*numUsers, dtype=np.int64).reshape(numUsers,numUsers)\n",
        "\n",
        "  for line in graph[1:]:\n",
        "    l = [x for x in line.split(\" \") if x]\n",
        "    l[0] = int(l[0])\n",
        "    l[1] = int(l[1])\n",
        "    l[2] = round(float(l[2]))\n",
        "    if int(l[0]) < numUsers and int(l[1]) < numUsers:\n",
        "      relationships[l[0],l[1]] = relationships[l[1],l[0]] = int(l[2])\n",
        "\n",
        "  print(f'Número usuários: {numUsers}')\n",
        "  print(f'Matriz de relacionamentos {relationships}')\n",
        "  print(f'Densidade do grafo: {np.count_nonzero(relationships)/(numUsers*(numUsers-1))}')\n",
        "\n",
        "  unique, counts = np.unique(relationships, return_counts=True)\n",
        "\n",
        "  print(f'Número de arestas positivas e negativas: {dict(zip(unique, counts/2))}')\n",
        "\n",
        "  print('\\n')\n",
        "\n",
        "\n",
        "  #2 - DEFININDO CONJUNTO DE SKILLS DE CADA USUÁRIO\n",
        "  skillsData = urllib.request.urlopen(skillsUrl).read().decode('utf-8').split(skillsSep)\n",
        "  numSkills = int(skillsData[0].split(numSkillsSep)[0])\n",
        "\n",
        "  print(f'Número de skills: {numSkills}')\n",
        "  lstSkills = skillsData[0].split(numSkillsSep)[1:]\n",
        "  mapSkills = {int(lstSkills[i].split(\":\")[0]):lstSkills[i].split(\":\")[1] for i in range(len(lstSkills))}\n",
        "  print(f'Lista de skills: {mapSkills}')\n",
        "  print('\\n')\n",
        "\n",
        "\n",
        "  #3 - CONTANDO O NÚMERO DE USUÁRIOS PARA CADA SKILL\n",
        "  usersSkillsMatrix = np.zeros(numUsers*numSkills, dtype=np.int64).reshape(numUsers,numSkills)\n",
        "\n",
        "  for index,item in enumerate(skillsData[1:]):\n",
        "    usersSkillsMatrix[index] = np.asarray(item.split(\" \"))\n",
        "\n",
        "  numUsersBySkill = usersSkillsMatrix.sum(axis=0)\n",
        "\n",
        "\n",
        "  #4 - FUNÇÃO QUE RETORNA O CONJUNTO DE SKILLS DE UM USUÁRIO\n",
        "  def userSkillSet(user):\n",
        "    return np.asarray([id for id,s in enumerate(skillsData[user+1].split(\" \")) if s and int(s) == 1])\n",
        "\n",
        "  \n",
        "  #5 - DEFININDO DEMANDA DE USUÁRIOS POR SKILL PARA CADA TIME\n",
        "  teamDemand = np.full((numTeams, numSkills), 1, dtype=np.int64)\n",
        "\n",
        "  for index,item in enumerate(numUsersBySkill):\n",
        "    for num in range(numTeams):\n",
        "      teamDemand[num][index] = round(item/teamUsersProportion)\n",
        "\n",
        "  print(f'Demanda de cada time: {teamDemand}')\n",
        "  print('\\n')\n",
        "\n",
        "  #6 - CONJUNTO DE SKILLS QUE CADA TIME PRECISA\n",
        "  def demandSkillSet(team):\n",
        "    return np.asarray([id for id,s in enumerate(teamDemand[team]) if s > 0])\n",
        "\n",
        "\n",
        "  #7 - IMPLEMENTAÇÃO DO MODELO\n",
        "  model = Model(\"CTFP\")\n",
        "\n",
        "  #7.1 - Variáveis\n",
        "  x = [[[model.add_var(var_type=BINARY) for s in range(numSkills)] for u in range(numUsers)] for t in range(numTeams)]\n",
        "\n",
        "  #7.2 - Função objetivo\n",
        "  model.objective = maximize(xsum( xsum( xsum( x[t][u][s] for s in userSkillSet(u) ) for u in range(numUsers) ) for t in range(numTeams)))\n",
        "\n",
        "  #7.3 - Restrições\n",
        "\n",
        "  #restrição (63)\n",
        "  for t in range(numTeams):\n",
        "    for u in range(numUsers):\n",
        "      for v in range(numUsers):\n",
        "        if relationships[u,v] == -1:\n",
        "          model += xsum(x[t][u][s] for s in userSkillSet(u)) + xsum(x[t][v][s] for s in userSkillSet(v)) <= 1\n",
        "\n",
        "  #restrição (64)\n",
        "  for t1 in range(numTeams):\n",
        "    for t2 in np.arange(t1+1, numTeams, 1):\n",
        "      for u in range(numUsers):\n",
        "        for v in range(numUsers):\n",
        "          if relationships[u,v] == 1:\n",
        "            model += xsum(x[t1][u][s] for s in userSkillSet(u)) + xsum(x[t2][v][s] for s in userSkillSet(v)) <= 1\n",
        "\n",
        "  #restrição (65)\n",
        "  for u in range(numUsers):\n",
        "    model += xsum( xsum( x[t][u][s] for s in userSkillSet(u)) for t in range(numTeams)) <= 1\n",
        "\n",
        "  #restrição (66)\n",
        "  for t in range(numTeams):\n",
        "    for s in demandSkillSet(t):\n",
        "      model += xsum( x[t][u][s] for u in range(numUsers) if s in userSkillSet(u)) >= teamDemand[t,s]\n",
        "\n",
        "  model.optimize()\n",
        "\n",
        "  print('\\n')\n",
        "\n",
        "  result = model.objective_value\n",
        "\n",
        "  print(f'Total de indivíduos alocados: {result}\\n')\n",
        "\n",
        "  if result == None:\n",
        "    return\n",
        "\n",
        "  #8 - PRINTANDO RESULTADOS\n",
        "\n",
        "  # Mapeando skills secundárias\n",
        "  secondarySkillsData = urllib.request.urlopen(secondarySkillsUrl).read().decode('utf-8').split(skillsSep)\n",
        "  numSecondarySkills = int(secondarySkillsData[0].split(numSkillsSep)[0])\n",
        "\n",
        "  lstSecondarySkills = secondarySkillsData[0].split(numSkillsSep)[1:]\n",
        "  mapSecondarySkills = {int(lstSecondarySkills[i].split(\":\")[0]):lstSecondarySkills[i].split(\":\")[1] for i in range(len(lstSecondarySkills))}\n",
        "\n",
        "  # Definindo conjunto de skill secundárias de cada usuário\n",
        "  def userSecondarySkillSet(user):\n",
        "    return np.asarray([id for id,s in enumerate(secondarySkillsData[user+1].split(\" \")) if s and int(s) == 1])\n",
        "\n",
        "  for teamIdx,team in enumerate(x):\n",
        "    \n",
        "    usersCount = 0\n",
        "    skillsUsersCount = [0] * numSkills\n",
        "    secondarySkillsUserCount = [0] * numSecondarySkills\n",
        "\n",
        "    for userIdx,user in enumerate(team):\n",
        "    \n",
        "      for skillIdx,skill in enumerate(user):\n",
        "        \n",
        "        skillsUsersCount[skillIdx] += skill.x # Contando número de usuários alocados na skill\n",
        "        usersCount += skill.x #Contando número de usuários alocados em uma equipe\n",
        "    \n",
        "        for s in userSecondarySkillSet(userIdx):\n",
        "          secondarySkillsUserCount[s] += skill.x # Contando número de usuários alocados na skill secundária\n",
        "      \n",
        "    print(f'Resultados da equipe {teamIdx}')\n",
        "\n",
        "    skillsUsersCountStr = ' | '.join(mapSkills[ind]+': '+str(count) for ind, count in enumerate(skillsUsersCount))\n",
        "    secondarySkillsUsersCountStr = ' | '.join(mapSecondarySkills[ind]+': '+str(count) for ind, count in enumerate(secondarySkillsUserCount))\n",
        "    print(f'Número de indivíduos na equipe: {usersCount}')\n",
        "    print(f'Número de indíviduos em cada skill: {skillsUsersCountStr}')\n",
        "    print(f'Número de indíviduos em cada skill secundária: {secondarySkillsUsersCountStr}')\n",
        "\n",
        "    print('\\n')\n",
        "\n",
        "  # 9 - ESCREVENDO ARQUIVO CONTENDO A EQUIPE E SKILL EM QUE CADA USUÁRIO ESTÁ ALOCADO\n",
        "  fName = f'{graphUrl.split(\"/\")[-1].split(\".\")[0]}_{skillsUrl.split(\"/\")[-2]}_{str(numTeams)}-teams.csv'\n",
        "\n",
        "  output = open(fName, \"w\")\n",
        "  output.write('id_vertex; team; skill')\n",
        "  output.close()\n",
        "\n",
        "  outputLines = [{'team': '-', 'skill': '-'}] * numUsers\n",
        "\n",
        "  for teamIdx,team in enumerate(x):\n",
        "\n",
        "    for userIdx,user in enumerate(team):\n",
        "    \n",
        "      skillUsed = -1\n",
        "\n",
        "      for skillIdx,skill in enumerate(user):\n",
        "        if skill.x == 1: # o usuário estará na equipe com somente 1 skill\n",
        "          skillUsed = skillIdx #armazena a skill que o usuário está usando na equipe\n",
        "\n",
        "      # caso o usuário esteja alocado na equipe, anotará seu id, a equipe e a skill em que está alocado\n",
        "      if skillUsed != -1:\n",
        "        outputLines[userIdx] = {'team': str(teamIdx), 'skill': mapSkills[skillUsed] }\n",
        "\n",
        "  output = open(fName, \"a\")\n",
        "  for id,item in enumerate(outputLines):\n",
        "    output.write('\\n')\n",
        "    output.write(f'{str(id)}; {item[\"team\"]}; {item[\"skill\"]}')\n",
        "  output.close()"
      ]
    },
    {
      "cell_type": "markdown",
      "metadata": {
        "id": "1svK1BSv41tK"
      },
      "source": [
        "# 2010"
      ]
    },
    {
      "cell_type": "markdown",
      "metadata": {
        "id": "C1zob2KCq8xw"
      },
      "source": [
        "## Estado como skill"
      ]
    },
    {
      "cell_type": "code",
      "execution_count": null,
      "metadata": {
        "colab": {
          "base_uri": "https://localhost:8080/"
        },
        "id": "2qZt7takT2Lk",
        "outputId": "22176cd3-6eb2-41f0-e4f5-66e0f2ed745e"
      },
      "outputs": [
        {
          "name": "stdout",
          "output_type": "stream",
          "text": [
            "Número usuários: 545\n",
            "Matriz de relacionamentos [[0 1 1 ... 0 1 1]\n",
            " [1 0 1 ... 0 1 0]\n",
            " [1 1 0 ... 0 1 1]\n",
            " ...\n",
            " [0 0 0 ... 0 0 0]\n",
            " [1 1 1 ... 0 0 0]\n",
            " [1 0 1 ... 0 0 0]]\n",
            "\n",
            "\n",
            "Número de skills: 27\n",
            "Lista de skills: {0: 'MG', 1: 'SP', 2: 'RJ', 3: 'BA', 4: 'PE', 5: 'RR', 6: 'MS', 7: 'PR', 8: 'SC', 9: 'RS', 10: 'MT', 11: 'ES', 12: 'DF', 13: 'CE', 14: 'TO', 15: 'GO', 16: 'AP', 17: 'PA', 18: 'AM', 19: 'RO', 20: 'AC', 21: 'AL', 22: 'MA', 23: 'RN', 24: 'PB', 25: 'SE', 26: 'PI'}\n",
            "\n",
            "\n",
            "Demanda de cada time: [[11 14 10  9  5  2  2  6  4  6  2  2  2  5  2  3  2  4  2  2  2  2  4  2\n",
            "   2  2  2]\n",
            " [11 14 10  9  5  2  2  6  4  6  2  2  2  5  2  3  2  4  2  2  2  2  4  2\n",
            "   2  2  2]]\n",
            "\n",
            "\n",
            "\n",
            "\n",
            "Total de indivíduos alocados: 331.0\n",
            "\n",
            "Resultados da equipe 0\n",
            "Número de indivíduos na equipe: 157.0\n",
            "Número de indíviduos em cada skill: MG: 14.0 | SP: 23.0 | RJ: 19.0 | BA: 11.0 | PE: 7.0 | RR: 2.0 | MS: 4.0 | PR: 10.0 | SC: 4.0 | RS: 8.0 | MT: 2.0 | ES: 6.0 | DF: 3.0 | CE: 7.0 | TO: 2.0 | GO: 3.0 | AP: 3.0 | PA: 4.0 | AM: 2.0 | RO: 2.0 | AC: 2.0 | AL: 2.0 | MA: 7.0 | RN: 3.0 | PB: 3.0 | SE: 2.0 | PI: 2.0\n",
            "Número de indíviduos em cada skill secundária: DEM: 17.0 | PRB: 2.0 | PT: 11.0 | PTB: 5.0 | PSB: 9.0 | PMDB: 25.0 | PP: 5.0 | PCDOB: 4.0 | PSDB: 38.0 | PR: 3.0 | PPS: 6.0 | PDT: 13.0 | PSOL: 2.0 | PSC: 5.0 | PHS: 1.0 | PV: 6.0 | PTC: 2.0 | PMN: 3.0 | PTDOB: 0.0\n",
            "\n",
            "\n",
            "Resultados da equipe 1\n",
            "Número de indivíduos na equipe: 174.0\n",
            "Número de indíviduos em cada skill: MG: 21.0 | SP: 26.0 | RJ: 19.0 | BA: 15.0 | PE: 8.0 | RR: 2.0 | MS: 4.0 | PR: 7.0 | SC: 4.0 | RS: 6.0 | MT: 2.0 | ES: 2.0 | DF: 3.0 | CE: 8.0 | TO: 2.0 | GO: 4.0 | AP: 4.0 | PA: 7.0 | AM: 4.0 | RO: 3.0 | AC: 2.0 | AL: 3.0 | MA: 4.0 | RN: 3.0 | PB: 4.0 | SE: 4.0 | PI: 3.0\n",
            "Número de indíviduos em cada skill secundária: DEM: 2.0 | PRB: 3.0 | PT: 35.0 | PTB: 10.0 | PSB: 15.0 | PMDB: 35.0 | PP: 13.0 | PCDOB: 5.0 | PSDB: 2.0 | PR: 24.0 | PPS: 2.0 | PDT: 8.0 | PSOL: 1.0 | PSC: 8.0 | PHS: 1.0 | PV: 9.0 | PTC: 0.0 | PMN: 0.0 | PTDOB: 1.0\n",
            "\n",
            "\n"
          ]
        }
      ],
      "source": [
        "# DUAS EQUIPES\n",
        "\n",
        "CTFPFunction('https://raw.githubusercontent.com/natalialidia/analise-parlamentos/main/brcongress-instances/congress-2010-v1.g',\n",
        "             'https://raw.githubusercontent.com/natalialidia/analise-parlamentos/main/brcongress-instances/state-as-skill/2010.txt',\n",
        "             'https://raw.githubusercontent.com/natalialidia/analise-parlamentos/main/brcongress-instances/party-as-skill/2010.txt',\n",
        "             2,\n",
        "             5,\n",
        "             numUsersSep=\"\\t\")"
      ]
    },
    {
      "cell_type": "code",
      "execution_count": null,
      "metadata": {
        "colab": {
          "base_uri": "https://localhost:8080/"
        },
        "id": "GQ_xH2xCeyxF",
        "outputId": "d2b293ed-16ee-4893-8e7e-3660183deaf1"
      },
      "outputs": [
        {
          "name": "stdout",
          "output_type": "stream",
          "text": [
            "Número usuários: 545\n",
            "Matriz de relacionamentos [[0 1 1 ... 0 1 1]\n",
            " [1 0 1 ... 0 1 0]\n",
            " [1 1 0 ... 0 1 1]\n",
            " ...\n",
            " [0 0 0 ... 0 0 0]\n",
            " [1 1 1 ... 0 0 0]\n",
            " [1 0 1 ... 0 0 0]]\n",
            "Densidade do grafo: 0.22331354560172692\n",
            "Número de arestas positivas e negativas: {-1: 389.0, 0: 115408.5, 1: 32715.0}\n",
            "\n",
            "\n",
            "Número de skills: 27\n",
            "Lista de skills: {0: 'MG', 1: 'SP', 2: 'RJ', 3: 'BA', 4: 'PE', 5: 'RR', 6: 'MS', 7: 'PR', 8: 'SC', 9: 'RS', 10: 'MT', 11: 'ES', 12: 'DF', 13: 'CE', 14: 'TO', 15: 'GO', 16: 'AP', 17: 'PA', 18: 'AM', 19: 'RO', 20: 'AC', 21: 'AL', 22: 'MA', 23: 'RN', 24: 'PB', 25: 'SE', 26: 'PI'}\n",
            "\n",
            "\n",
            "Demanda de cada time: [[13 18 13 11  6  2  2  8  4  8  2  2  2  6  2  4  2  4  2  2  2  2  5  2\n",
            "   3  2  3]\n",
            " [13 18 13 11  6  2  2  8  4  8  2  2  2  6  2  4  2  4  2  2  2  2  5  2\n",
            "   3  2  3]\n",
            " [13 18 13 11  6  2  2  8  4  8  2  2  2  6  2  4  2  4  2  2  2  2  5  2\n",
            "   3  2  3]]\n",
            "\n",
            "\n"
          ]
        }
      ],
      "source": [
        "# TRÊS EQUIPES\n",
        "\n",
        "CTFPFunction('https://raw.githubusercontent.com/natalialidia/analise-parlamentos/main/brcongress-instances/congress-2010-v1.g',\n",
        "             'https://raw.githubusercontent.com/natalialidia/analise-parlamentos/main/brcongress-instances/state-as-skill/2010.txt',\n",
        "             'https://raw.githubusercontent.com/natalialidia/analise-parlamentos/main/brcongress-instances/party-as-skill/2010.txt',\n",
        "             3,\n",
        "             4,\n",
        "             numUsersSep=\"\\t\")"
      ]
    },
    {
      "cell_type": "markdown",
      "metadata": {
        "id": "giBLGhYZrk8V"
      },
      "source": [
        "## Partido como skill"
      ]
    },
    {
      "cell_type": "code",
      "execution_count": null,
      "metadata": {
        "colab": {
          "base_uri": "https://localhost:8080/"
        },
        "id": "UG0udUQdroA6",
        "outputId": "a9b03293-d283-402a-d590-9cdc7a47d196"
      },
      "outputs": [
        {
          "name": "stdout",
          "output_type": "stream",
          "text": [
            "Número usuários: 545\n",
            "Matriz de relacionamentos [[0 1 1 ... 0 1 1]\n",
            " [1 0 1 ... 0 1 0]\n",
            " [1 1 0 ... 0 1 1]\n",
            " ...\n",
            " [0 0 0 ... 0 0 0]\n",
            " [1 1 1 ... 0 0 0]\n",
            " [1 0 1 ... 0 0 0]]\n",
            "Densidade do grafo: 0.22331354560172692\n",
            "Número de arestas positivas e negativas: {-1: 389.0, 0: 115408.5, 1: 32715.0}\n",
            "\n",
            "\n",
            "Número de skills: 19\n",
            "Lista de skills: {0: 'DEM', 1: 'PRB', 2: 'PT', 3: 'PTB', 4: 'PSB', 5: 'PMDB', 6: 'PP', 7: 'PCDOB', 8: 'PSDB', 9: 'PR', 10: 'PPS', 11: 'PDT', 12: 'PSOL', 13: 'PSC', 14: 'PHS', 15: 'PV', 16: 'PTC', 17: 'PMN', 18: 'PTDOB'}\n",
            "\n",
            "\n",
            "Demanda de cada time: [[20  3 28  8  9 32 15  4 20 15  5  8  1  6  1  5  1  1  0]\n",
            " [20  3 28  8  9 32 15  4 20 15  5  8  1  6  1  5  1  1  0]]\n",
            "\n",
            "\n"
          ]
        }
      ],
      "source": [
        "# DUAS EQUIPES\n",
        "# sem resultados até o tempo limite\n",
        "CTFPFunction('https://raw.githubusercontent.com/natalialidia/analise-parlamentos/main/brcongress-instances/congress-2010-v1.g',\n",
        "             'https://raw.githubusercontent.com/natalialidia/analise-parlamentos/main/brcongress-instances/party-as-skill/2010.txt',\n",
        "             'https://raw.githubusercontent.com/natalialidia/analise-parlamentos/main/brcongress-instances/state-as-skill/2010.txt',\n",
        "             2,\n",
        "             3,\n",
        "             numUsersSep=\"\\t\")"
      ]
    },
    {
      "cell_type": "markdown",
      "metadata": {
        "id": "iCu0rFnNtsRv"
      },
      "source": [
        "# 2011"
      ]
    },
    {
      "cell_type": "markdown",
      "metadata": {
        "id": "wzwZ4cvBt3Xc"
      },
      "source": [
        "## Estado como skill"
      ]
    },
    {
      "cell_type": "code",
      "execution_count": 60,
      "metadata": {
        "colab": {
          "base_uri": "https://localhost:8080/"
        },
        "id": "hOXcTha84cPU",
        "outputId": "1ce757d5-1f59-4824-ffc2-8cf9c8ad9dcf"
      },
      "outputs": [
        {
          "output_type": "stream",
          "name": "stdout",
          "text": [
            "Número usuários: 553\n",
            "Matriz de relacionamentos [[0 0 0 ... 0 0 1]\n",
            " [0 0 0 ... 0 0 1]\n",
            " [0 0 0 ... 0 0 1]\n",
            " ...\n",
            " [0 0 0 ... 0 0 1]\n",
            " [0 0 0 ... 0 0 0]\n",
            " [1 1 1 ... 1 0 0]]\n",
            "Densidade do grafo: 0.031632465864716824\n",
            "Número de arestas positivas e negativas: {-1: 246.0, 0: 148076.5, 1: 4582.0}\n",
            "\n",
            "\n",
            "Número de skills: 27\n",
            "Lista de skills: {0: 'MG', 1: 'BA', 2: 'PE', 3: 'DF', 4: 'CE', 5: 'PI', 6: 'AM', 7: 'RJ', 8: 'SP', 9: 'PR', 10: 'SC', 11: 'RS', 12: 'ES', 13: 'GO', 14: 'MT', 15: 'AP', 16: 'PA', 17: 'AC', 18: 'TO', 19: 'RR', 20: 'MA', 21: 'RN', 22: 'PB', 23: 'AL', 24: 'SE', 25: 'MS', 26: 'RO'}\n",
            "\n",
            "\n",
            "Demanda de cada time: [[11  8  5  2  4  2  2 10 15  6  4  6  2  4  2  2  4  2  2  2  4  2  2  2\n",
            "   2  2  2]\n",
            " [11  8  5  2  4  2  2 10 15  6  4  6  2  4  2  2  4  2  2  2  4  2  2  2\n",
            "   2  2  2]]\n",
            "\n",
            "\n",
            "\n",
            "\n",
            "Total de indivíduos alocados: 535.0\n",
            "\n",
            "Resultados da equipe 0\n",
            "Número de indivíduos na equipe: 133.0\n",
            "Número de indíviduos em cada skill: MG: 11.0 | BA: 9.0 | PE: 5.0 | DF: 2.0 | CE: 15.0 | PI: 2.0 | AM: 2.0 | RJ: 10.0 | SP: 15.0 | PR: 8.0 | SC: 4.0 | RS: 6.0 | ES: 2.0 | GO: 4.0 | MT: 2.0 | AP: 2.0 | PA: 9.0 | AC: 2.0 | TO: 2.0 | RR: 2.0 | MA: 4.0 | RN: 2.0 | PB: 2.0 | AL: 2.0 | SE: 5.0 | MS: 2.0 | RO: 2.0\n",
            "Número de indíviduos em cada skill secundária: DEM: 2.0 | PT: 32.0 | PTB: 10.0 | PR: 4.0 | PMDB: 31.0 | PP: 8.0 | PCDOB: 4.0 | PPS: 4.0 | PSOL: 1.0 | PDT: 10.0 | PRB: 4.0 | PSDB: 1.0 | PSB: 6.0 | PSD: 5.0 | PSC: 4.0 | PV: 5.0 | PMN: 0.0 | PTDOB: 2.0 | PHS: 0.0 | PRTB: 0.0 | PSL: 0.0 | PTC: 0.0 | PRP: 0.0\n",
            "\n",
            "\n",
            "Resultados da equipe 1\n",
            "Número de indivíduos na equipe: 402.0\n",
            "Número de indíviduos em cada skill: MG: 43.0 | BA: 31.0 | PE: 20.0 | DF: 7.0 | CE: 7.0 | PI: 8.0 | AM: 6.0 | RJ: 40.0 | SP: 58.0 | PR: 22.0 | SC: 15.0 | RS: 26.0 | ES: 8.0 | GO: 17.0 | MT: 7.0 | AP: 6.0 | PA: 8.0 | AC: 6.0 | TO: 6.0 | RR: 7.0 | MA: 15.0 | RN: 6.0 | PB: 10.0 | AL: 7.0 | SE: 3.0 | MS: 6.0 | RO: 7.0\n",
            "Número de indíviduos em cada skill secundária: DEM: 33.0 | PT: 58.0 | PTB: 11.0 | PR: 33.0 | PMDB: 56.0 | PP: 36.0 | PCDOB: 11.0 | PPS: 8.0 | PSOL: 2.0 | PDT: 19.0 | PRB: 8.0 | PSDB: 52.0 | PSB: 25.0 | PSD: 15.0 | PSC: 14.0 | PV: 7.0 | PMN: 4.0 | PTDOB: 2.0 | PHS: 2.0 | PRTB: 2.0 | PSL: 1.0 | PTC: 1.0 | PRP: 2.0\n",
            "\n",
            "\n"
          ]
        }
      ],
      "source": [
        "# DUAS EQUIPES\n",
        "\n",
        "CTFPFunction('https://raw.githubusercontent.com/natalialidia/analise-parlamentos/main/brcongress-instances/congress-2011-v1.g',\n",
        "             'https://raw.githubusercontent.com/natalialidia/analise-parlamentos/main/brcongress-instances/state-as-skill/2011.txt',\n",
        "             'https://raw.githubusercontent.com/natalialidia/analise-parlamentos/main/brcongress-instances/party-as-skill/2011.txt',\n",
        "             2,\n",
        "             5,\n",
        "             numUsersSep=\"\\t\")"
      ]
    },
    {
      "cell_type": "code",
      "execution_count": null,
      "metadata": {
        "colab": {
          "background_save": true,
          "base_uri": "https://localhost:8080/"
        },
        "id": "8FusvLDlp5lo",
        "outputId": "985b57c4-575d-4b5c-de71-88fd92c6a491"
      },
      "outputs": [
        {
          "name": "stdout",
          "output_type": "stream",
          "text": [
            "Número usuários: 553\n",
            "Matriz de relacionamentos [[0 0 0 ... 0 0 1]\n",
            " [0 0 0 ... 0 0 1]\n",
            " [0 0 0 ... 0 0 1]\n",
            " ...\n",
            " [0 0 0 ... 0 0 1]\n",
            " [0 0 0 ... 0 0 0]\n",
            " [1 1 1 ... 1 0 0]]\n",
            "\n",
            "\n",
            "Número de skills: 27\n",
            "Lista de skills: {0: 'MG', 1: 'BA', 2: 'PE', 3: 'DF', 4: 'CE', 5: 'PI', 6: 'AM', 7: 'RJ', 8: 'SP', 9: 'PR', 10: 'SC', 11: 'RS', 12: 'ES', 13: 'GO', 14: 'MT', 15: 'AP', 16: 'PA', 17: 'AC', 18: 'TO', 19: 'RR', 20: 'MA', 21: 'RN', 22: 'PB', 23: 'AL', 24: 'SE', 25: 'MS', 26: 'RO'}\n",
            "\n",
            "\n",
            "Demanda de cada time: [[14 11  7  3  6  3  2 14 19  8  6  8  3  6  3  2  5  2  2  2  6  2  3  2\n",
            "   2  2  2]\n",
            " [14 11  7  3  6  3  2 14 19  8  6  8  3  6  3  2  5  2  2  2  6  2  3  2\n",
            "   2  2  2]\n",
            " [14 11  7  3  6  3  2 14 19  8  6  8  3  6  3  2  5  2  2  2  6  2  3  2\n",
            "   2  2  2]]\n",
            "\n",
            "\n"
          ]
        }
      ],
      "source": [
        "# TRÊS EQUIPES\n",
        "\n",
        "CTFPFunction('https://raw.githubusercontent.com/natalialidia/analise-parlamentos/main/brcongress-instances/congress-2011-v1.g',\n",
        "             'https://raw.githubusercontent.com/natalialidia/analise-parlamentos/main/brcongress-instances/state-as-skill/2011.txt',\n",
        "             'https://raw.githubusercontent.com/natalialidia/analise-parlamentos/main/brcongress-instances/party-as-skill/2011.txt',\n",
        "             3,\n",
        "             3.8,\n",
        "             numUsersSep=\"\\t\")"
      ]
    },
    {
      "cell_type": "markdown",
      "metadata": {
        "id": "c4VTJDCrt7w1"
      },
      "source": [
        "## Partido como skill"
      ]
    },
    {
      "cell_type": "code",
      "execution_count": null,
      "metadata": {
        "colab": {
          "base_uri": "https://localhost:8080/"
        },
        "id": "7_qBuDzBuAhc",
        "outputId": "da601662-6285-4059-cf64-7acf016e0675"
      },
      "outputs": [
        {
          "name": "stdout",
          "output_type": "stream",
          "text": [
            "Número usuários: 553\n",
            "Matriz de relacionamentos [[0 0 0 ... 0 0 1]\n",
            " [0 0 0 ... 0 0 1]\n",
            " [0 0 0 ... 0 0 1]\n",
            " ...\n",
            " [0 0 0 ... 0 0 1]\n",
            " [0 0 0 ... 0 0 0]\n",
            " [1 1 1 ... 1 0 0]]\n",
            "Densidade do grafo: 0.031632465864716824\n",
            "Número de arestas positivas e negativas: {-1: 246.0, 0: 148076.5, 1: 4582.0}\n",
            "\n",
            "\n",
            "Número de skills: 23\n",
            "Lista de skills: {0: 'DEM', 1: 'PT', 2: 'PTB', 3: 'PR', 4: 'PMDB', 5: 'PP', 6: 'PCDOB', 7: 'PPS', 8: 'PSOL', 9: 'PDT', 10: 'PRB', 11: 'PSDB', 12: 'PSB', 13: 'PSD', 14: 'PSC', 15: 'PV', 16: 'PMN', 17: 'PTDOB', 18: 'PHS', 19: 'PRTB', 20: 'PSL', 21: 'PTC', 22: 'PRP'}\n",
            "\n",
            "\n",
            "Demanda de cada time: [[13 30  7 12 30 15  5  4  1 10  4 19 11  8  6  4  1  1  1  1  0  0  1]\n",
            " [13 30  7 12 30 15  5  4  1 10  4 19 11  8  6  4  1  1  1  1  0  0  1]]\n",
            "\n",
            "\n"
          ]
        }
      ],
      "source": [
        "# DUAS EQUIPES\n",
        "#sem resultados até o tempo limite\n",
        "CTFPFunction('https://raw.githubusercontent.com/natalialidia/analise-parlamentos/main/brcongress-instances/congress-2011-v1.g',\n",
        "             'https://raw.githubusercontent.com/natalialidia/analise-parlamentos/main/brcongress-instances/party-as-skill/2011.txt',\n",
        "             'https://raw.githubusercontent.com/natalialidia/analise-parlamentos/main/brcongress-instances/state-as-skill/2011.txt',\n",
        "             2,\n",
        "             3,\n",
        "             numUsersSep=\"\\t\")"
      ]
    },
    {
      "cell_type": "markdown",
      "metadata": {
        "id": "TwrQS89E5Ac6"
      },
      "source": [
        "# 2012"
      ]
    },
    {
      "cell_type": "markdown",
      "metadata": {
        "id": "sLsKB4rPBEqM"
      },
      "source": [
        "## Estado como skill"
      ]
    },
    {
      "cell_type": "code",
      "execution_count": null,
      "metadata": {
        "colab": {
          "base_uri": "https://localhost:8080/"
        },
        "id": "g2W_jc_W0nT7",
        "outputId": "0d1ec14c-c9c4-4381-d59e-ce820c2c8bce"
      },
      "outputs": [
        {
          "metadata": {
            "tags": null
          },
          "name": "stdout",
          "output_type": "stream",
          "text": [
            "Número usuários: 555\n",
            "Matriz de relacionamentos [[0 1 0 ... 0 0 1]\n",
            " [1 0 0 ... 0 0 0]\n",
            " [0 0 0 ... 1 0 0]\n",
            " ...\n",
            " [0 0 1 ... 0 0 0]\n",
            " [0 0 0 ... 0 0 0]\n",
            " [1 0 0 ... 0 0 0]]\n",
            "Densidade do grafo: 0.3040491755293199\n",
            "Número de arestas positivas e negativas: {-1: 398.0, 0: 107269.5, 1: 46345.0}\n",
            "\n",
            "\n",
            "Número de skills: 27\n",
            "Lista de skills: {0: 'MG', 1: 'BA', 2: 'PE', 3: 'DF', 4: 'CE', 5: 'PI', 6: 'AM', 7: 'RJ', 8: 'SP', 9: 'PR', 10: 'SC', 11: 'RS', 12: 'ES', 13: 'MT', 14: 'GO', 15: 'AP', 16: 'PA', 17: 'AC', 18: 'TO', 19: 'RR', 20: 'MA', 21: 'RN', 22: 'PB', 23: 'AL', 24: 'SE', 25: 'MS', 26: 'RO'}\n",
            "\n",
            "\n",
            "Demanda de cada time: [[17 13  8  3  8  3  2 17 23 10  5 11  3  3  6  2  6  2  2  2  7  3  4  3\n",
            "   2  2  2]\n",
            " [17 13  8  3  8  3  2 17 23 10  5 11  3  3  6  2  6  2  2  2  7  3  4  3\n",
            "   2  2  2]]\n",
            "\n",
            "\n"
          ]
        }
      ],
      "source": [
        "# DUAS EQUIPES\n",
        "\n",
        "CTFPFunction('https://raw.githubusercontent.com/natalialidia/analise-parlamentos/main/brcongress-instances/congress-2012-v1.g',\n",
        "             'https://raw.githubusercontent.com/natalialidia/analise-parlamentos/main/brcongress-instances/state-as-skill/2012.txt',\n",
        "             'https://raw.githubusercontent.com/natalialidia/analise-parlamentos/main/brcongress-instances/party-as-skill/2012.txt',\n",
        "             2,\n",
        "             3.2,\n",
        "             numUsersSep=\"\\t\")"
      ]
    },
    {
      "cell_type": "markdown",
      "source": [
        "## Partido como skill"
      ],
      "metadata": {
        "id": "ntP0PZkg_be7"
      }
    },
    {
      "cell_type": "code",
      "source": [
        "# DUAS EQUIPES\n",
        "\n",
        "CTFPFunction('https://raw.githubusercontent.com/natalialidia/analise-parlamentos/main/brcongress-instances/congress-2012-v1.g',\n",
        "             'https://raw.githubusercontent.com/natalialidia/analise-parlamentos/main/brcongress-instances/party-as-skill/2012.txt',\n",
        "             'https://raw.githubusercontent.com/natalialidia/analise-parlamentos/main/brcongress-instances/state-as-skill/2012.txt',\n",
        "             2,\n",
        "             3,\n",
        "             numUsersSep=\"\\t\")"
      ],
      "metadata": {
        "colab": {
          "base_uri": "https://localhost:8080/"
        },
        "id": "gyLfbsk1_fhV",
        "outputId": "feaccbd5-2825-4b10-fc43-ac012706dc6f"
      },
      "execution_count": null,
      "outputs": [
        {
          "output_type": "stream",
          "name": "stdout",
          "text": [
            "Número usuários: 555\n",
            "Matriz de relacionamentos [[0 1 0 ... 0 0 1]\n",
            " [1 0 0 ... 0 0 0]\n",
            " [0 0 0 ... 1 0 0]\n",
            " ...\n",
            " [0 0 1 ... 0 0 0]\n",
            " [0 0 0 ... 0 0 0]\n",
            " [1 0 0 ... 0 0 0]]\n",
            "Densidade do grafo: 0.3040491755293199\n",
            "Número de arestas positivas e negativas: {-1: 398.0, 0: 107269.5, 1: 46345.0}\n",
            "\n",
            "\n",
            "Número de skills: 24\n",
            "Lista de skills: {0: 'DEM', 1: 'PT', 2: 'PTB', 3: 'PR', 4: 'PMDB', 5: 'PP', 6: 'PPS', 7: 'PSB', 8: 'PSOL', 9: 'PDT', 10: 'PSDB', 11: 'PSD', 12: 'PSC', 13: 'PV', 14: 'PCDOB', 15: 'PRB', 16: 'PMN', 17: 'PTDOB', 18: 'PHS', 19: 'PRTB', 20: 'PSL', 21: 'PTC', 22: 'PEN', 23: 'PRP'}\n",
            "\n",
            "\n",
            "Demanda de cada time: [[10 31  7 12 29 13  4 12  1  9 19 17  6  3  4  3  1  1  0  0  0  0  0  1]\n",
            " [10 31  7 12 29 13  4 12  1  9 19 17  6  3  4  3  1  1  0  0  0  0  0  1]]\n",
            "\n",
            "\n",
            "\n",
            "\n",
            "Total de indivíduos alocados: None\n",
            "\n"
          ]
        }
      ]
    },
    {
      "cell_type": "markdown",
      "metadata": {
        "id": "7ZsbGp7C5EM4"
      },
      "source": [
        "# 2013"
      ]
    },
    {
      "cell_type": "markdown",
      "metadata": {
        "id": "sJYKLmGq9oF-"
      },
      "source": [
        "## Estado como skill"
      ]
    },
    {
      "cell_type": "code",
      "execution_count": 61,
      "metadata": {
        "colab": {
          "base_uri": "https://localhost:8080/"
        },
        "id": "HvAyjfuv5LtC",
        "outputId": "40436e2a-ffc8-40b5-bc35-b8d89d8cf854"
      },
      "outputs": [
        {
          "output_type": "stream",
          "name": "stdout",
          "text": [
            "Número usuários: 540\n",
            "Matriz de relacionamentos [[0 0 0 ... 1 0 0]\n",
            " [0 0 0 ... 0 0 0]\n",
            " [0 0 0 ... 0 0 0]\n",
            " ...\n",
            " [1 0 0 ... 0 0 0]\n",
            " [0 0 0 ... 0 0 0]\n",
            " [0 0 0 ... 0 0 0]]\n",
            "Densidade do grafo: 0.026187040472754757\n",
            "Número de arestas positivas e negativas: {-1: 933.0, 0: 141989.0, 1: 2878.0}\n",
            "\n",
            "\n",
            "Número de skills: 27\n",
            "Lista de skills: {0: 'MG', 1: 'PE', 2: 'DF', 3: 'CE', 4: 'PI', 5: 'AM', 6: 'RJ', 7: 'SP', 8: 'PR', 9: 'SC', 10: 'RS', 11: 'ES', 12: 'TO', 13: 'MT', 14: 'GO', 15: 'BA', 16: 'AP', 17: 'PA', 18: 'RO', 19: 'AC', 20: 'RR', 21: 'MA', 22: 'RN', 23: 'PB', 24: 'AL', 25: 'SE', 26: 'MS'}\n",
            "\n",
            "\n",
            "Demanda de cada time: [[19  8  3  8  3  3 16 24 11  6 11  3  4  3  6 13  3  6  3  3  3  6  3  4\n",
            "   3  3  3]\n",
            " [19  8  3  8  3  3 16 24 11  6 11  3  4  3  6 13  3  6  3  3  3  6  3  4\n",
            "   3  3  3]]\n",
            "\n",
            "\n",
            "\n",
            "\n",
            "Total de indivíduos alocados: 522.0\n",
            "\n",
            "Resultados da equipe 0\n",
            "Número de indivíduos na equipe: 325.0\n",
            "Número de indíviduos em cada skill: MG: 33.0 | PE: 17.0 | DF: 6.0 | CE: 13.0 | PI: 6.0 | AM: 5.0 | RJ: 30.0 | SP: 44.0 | PR: 20.0 | SC: 10.0 | RS: 18.0 | ES: 7.0 | TO: 6.0 | MT: 5.0 | GO: 11.0 | BA: 27.0 | AP: 5.0 | PA: 11.0 | RO: 4.0 | AC: 4.0 | RR: 5.0 | MA: 12.0 | RN: 4.0 | PB: 6.0 | AL: 6.0 | SE: 5.0 | MS: 5.0\n",
            "Número de indíviduos em cada skill secundária: DEM: 21.0 | PSC: 9.0 | PSDB: 39.0 | PMDB: 41.0 | PP: 18.0 | SOLIDARIED: 1.0 | PT: 56.0 | PTB: 11.0 | PRB: 8.0 | PPS: 5.0 | PSB: 16.0 | PSOL: 2.0 | PDT: 17.0 | PR: 32.0 | PEN: 1.0 | PSD: 26.0 | PV: 3.0 | PCDOB: 8.0 | SDD: 2.0 | S.PART.: 1.0 | PMN: 2.0 | PTDOB: 3.0 | PHS: 0.0 | PRP: 2.0 | PROS: 1.0\n",
            "\n",
            "\n",
            "Resultados da equipe 1\n",
            "Número de indivíduos na equipe: 197.0\n",
            "Número de indíviduos em cada skill: MG: 19.0 | PE: 8.0 | DF: 3.0 | CE: 11.0 | PI: 4.0 | AM: 3.0 | RJ: 16.0 | SP: 27.0 | PR: 12.0 | SC: 6.0 | RS: 13.0 | ES: 3.0 | TO: 4.0 | MT: 3.0 | GO: 6.0 | BA: 13.0 | AP: 3.0 | PA: 6.0 | RO: 4.0 | AC: 4.0 | RR: 4.0 | MA: 6.0 | RN: 4.0 | PB: 6.0 | AL: 3.0 | SE: 3.0 | MS: 3.0\n",
            "Número de indíviduos em cada skill secundária: DEM: 7.0 | PSC: 9.0 | PSDB: 9.0 | PMDB: 39.0 | PP: 20.0 | SOLIDARIED: 3.0 | PT: 36.0 | PTB: 7.0 | PRB: 2.0 | PPS: 6.0 | PSB: 11.0 | PSOL: 1.0 | PDT: 8.0 | PR: 4.0 | PEN: 1.0 | PSD: 19.0 | PV: 6.0 | PCDOB: 5.0 | SDD: 2.0 | S.PART.: 0.0 | PMN: 1.0 | PTDOB: 0.0 | PHS: 1.0 | PRP: 0.0 | PROS: 0.0\n",
            "\n",
            "\n"
          ]
        }
      ],
      "source": [
        "# DUAS EQUIPES\n",
        "\n",
        "CTFPFunction('https://raw.githubusercontent.com/natalialidia/analise-parlamentos/main/brcongress-instances/congress-2013-v1.g',\n",
        "             'https://raw.githubusercontent.com/natalialidia/analise-parlamentos/main/brcongress-instances/state-as-skill/2013.txt',\n",
        "             'https://raw.githubusercontent.com/natalialidia/analise-parlamentos/main/brcongress-instances/party-as-skill/2013.txt',\n",
        "             2,\n",
        "             3,\n",
        "             numUsersSep=\"\\t\")"
      ]
    },
    {
      "cell_type": "code",
      "execution_count": null,
      "metadata": {
        "colab": {
          "base_uri": "https://localhost:8080/"
        },
        "id": "XIY6jA-MlLe6",
        "outputId": "be230def-5ed9-4db9-b2a6-b84ba1b91a29"
      },
      "outputs": [
        {
          "name": "stdout",
          "output_type": "stream",
          "text": [
            "Número usuários: 540\n",
            "Matriz de relacionamentos [[0 0 0 ... 1 0 0]\n",
            " [0 0 0 ... 0 0 0]\n",
            " [0 0 0 ... 0 0 0]\n",
            " ...\n",
            " [1 0 0 ... 0 0 0]\n",
            " [0 0 0 ... 0 0 0]\n",
            " [0 0 0 ... 0 0 0]]\n",
            "\n",
            "\n",
            "Número de skills: 27\n",
            "Lista de skills: {0: 'MG', 1: 'PE', 2: 'DF', 3: 'CE', 4: 'PI', 5: 'AM', 6: 'RJ', 7: 'SP', 8: 'PR', 9: 'SC', 10: 'RS', 11: 'ES', 12: 'TO', 13: 'MT', 14: 'GO', 15: 'BA', 16: 'AP', 17: 'PA', 18: 'RO', 19: 'AC', 20: 'RR', 21: 'MA', 22: 'RN', 23: 'PB', 24: 'AL', 25: 'SE', 26: 'MS'}\n",
            "\n",
            "\n",
            "Demanda de cada time: [[15  7  2  6  3  2 13 19  9  5  9  3  3  2  5 11  2  5  2  2  2  5  2  3\n",
            "   3  2  2]\n",
            " [15  7  2  6  3  2 13 19  9  5  9  3  3  2  5 11  2  5  2  2  2  5  2  3\n",
            "   3  2  2]\n",
            " [15  7  2  6  3  2 13 19  9  5  9  3  3  2  5 11  2  5  2  2  2  5  2  3\n",
            "   3  2  2]]\n",
            "\n",
            "\n"
          ]
        }
      ],
      "source": [
        "# TRÊS EQUIPES\n",
        "\n",
        "CTFPFunction('https://raw.githubusercontent.com/natalialidia/analise-parlamentos/main/brcongress-instances/congress-2013-v1.g',\n",
        "             'https://raw.githubusercontent.com/natalialidia/analise-parlamentos/main/brcongress-instances/state-as-skill/2013.txt',\n",
        "             'https://raw.githubusercontent.com/natalialidia/analise-parlamentos/main/brcongress-instances/party-as-skill/2013.txt',\n",
        "             3,\n",
        "             3.7,\n",
        "             numUsersSep=\"\\t\")"
      ]
    },
    {
      "cell_type": "markdown",
      "metadata": {
        "id": "lTxzZwFSIlHJ"
      },
      "source": [
        "## Partido como skill"
      ]
    },
    {
      "cell_type": "code",
      "execution_count": 62,
      "metadata": {
        "colab": {
          "base_uri": "https://localhost:8080/"
        },
        "id": "Z47Wj6FEIrOs",
        "outputId": "e1c73ec5-f1ef-4661-d285-2cbc83443c96"
      },
      "outputs": [
        {
          "output_type": "stream",
          "name": "stdout",
          "text": [
            "Número usuários: 540\n",
            "Matriz de relacionamentos [[0 0 0 ... 1 0 0]\n",
            " [0 0 0 ... 0 0 0]\n",
            " [0 0 0 ... 0 0 0]\n",
            " ...\n",
            " [1 0 0 ... 0 0 0]\n",
            " [0 0 0 ... 0 0 0]\n",
            " [0 0 0 ... 0 0 0]]\n",
            "Densidade do grafo: 0.026187040472754757\n",
            "Número de arestas positivas e negativas: {-1: 933.0, 0: 141989.0, 1: 2878.0}\n",
            "\n",
            "\n",
            "Número de skills: 25\n",
            "Lista de skills: {0: 'DEM', 1: 'PSC', 2: 'PSDB', 3: 'PMDB', 4: 'PP', 5: 'SOLIDARIED', 6: 'PT', 7: 'PTB', 8: 'PRB', 9: 'PPS', 10: 'PSB', 11: 'PSOL', 12: 'PDT', 13: 'PR', 14: 'PEN', 15: 'PSD', 16: 'PV', 17: 'PCDOB', 18: 'SDD', 19: 'S.PART.', 20: 'PMN', 21: 'PTDOB', 22: 'PHS', 23: 'PRP', 24: 'PROS'}\n",
            "\n",
            "\n",
            "Demanda de cada time: [[10  6 16 29 13  2 31  6  3  4  9  1  8 12  1 16  3  4  1  0  1  1  0  1\n",
            "   0]\n",
            " [10  6 16 29 13  2 31  6  3  4  9  1  8 12  1 16  3  4  1  0  1  1  0  1\n",
            "   0]]\n",
            "\n",
            "\n",
            "\n",
            "\n",
            "Total de indivíduos alocados: 521.0\n",
            "\n",
            "Resultados da equipe 0\n",
            "Número de indivíduos na equipe: 223.0\n",
            "Número de indíviduos em cada skill: DEM: 10.0 | PSC: 6.0 | PSDB: 16.0 | PMDB: 39.0 | PP: 20.0 | SOLIDARIED: 2.0 | PT: 43.0 | PTB: 9.0 | PRB: 3.0 | PPS: 7.0 | PSB: 10.0 | PSOL: 1.0 | PDT: 8.0 | PR: 12.0 | PEN: 1.0 | PSD: 23.0 | PV: 4.0 | PCDOB: 4.0 | SDD: 1.0 | S.PART.: 0.0 | PMN: 1.0 | PTDOB: 1.0 | PHS: 1.0 | PRP: 1.0 | PROS: 0.0\n",
            "Número de indíviduos em cada skill secundária: MG: 21.0 | PE: 13.0 | DF: 4.0 | CE: 9.0 | PI: 6.0 | AM: 2.0 | RJ: 15.0 | SP: 26.0 | PR: 14.0 | SC: 9.0 | RS: 16.0 | ES: 6.0 | TO: 4.0 | MT: 3.0 | GO: 10.0 | BA: 18.0 | AP: 0.0 | PA: 5.0 | RO: 4.0 | AC: 5.0 | RR: 5.0 | MA: 12.0 | RN: 2.0 | PB: 5.0 | AL: 3.0 | SE: 3.0 | MS: 3.0\n",
            "\n",
            "\n",
            "Resultados da equipe 1\n",
            "Número de indivíduos na equipe: 298.0\n",
            "Número de indíviduos em cada skill: DEM: 18.0 | PSC: 12.0 | PSDB: 32.0 | PMDB: 41.0 | PP: 18.0 | SOLIDARIED: 2.0 | PT: 49.0 | PTB: 9.0 | PRB: 7.0 | PPS: 4.0 | PSB: 17.0 | PSOL: 2.0 | PDT: 17.0 | PR: 23.0 | PEN: 1.0 | PSD: 22.0 | PV: 5.0 | PCDOB: 9.0 | SDD: 3.0 | S.PART.: 1.0 | PMN: 2.0 | PTDOB: 2.0 | PHS: 0.0 | PRP: 1.0 | PROS: 1.0\n",
            "Número de indíviduos em cada skill secundária: MG: 31.0 | PE: 12.0 | DF: 5.0 | CE: 15.0 | PI: 4.0 | AM: 6.0 | RJ: 31.0 | SP: 45.0 | PR: 18.0 | SC: 7.0 | RS: 15.0 | ES: 4.0 | TO: 6.0 | MT: 5.0 | GO: 7.0 | BA: 22.0 | AP: 8.0 | PA: 12.0 | RO: 4.0 | AC: 3.0 | RR: 4.0 | MA: 6.0 | RN: 5.0 | PB: 7.0 | AL: 6.0 | SE: 5.0 | MS: 5.0\n",
            "\n",
            "\n"
          ]
        }
      ],
      "source": [
        "# DUAS EQUIPES\n",
        "\n",
        "CTFPFunction('https://raw.githubusercontent.com/natalialidia/analise-parlamentos/main/brcongress-instances/congress-2013-v1.g',\n",
        "             'https://raw.githubusercontent.com/natalialidia/analise-parlamentos/main/brcongress-instances/party-as-skill/2013.txt',\n",
        "             'https://raw.githubusercontent.com/natalialidia/analise-parlamentos/main/brcongress-instances/state-as-skill/2013.txt',\n",
        "             2,\n",
        "             3,\n",
        "             numUsersSep=\"\\t\")"
      ]
    },
    {
      "cell_type": "markdown",
      "metadata": {
        "id": "-2uHBFza4c7e"
      },
      "source": [
        "# 2014"
      ]
    },
    {
      "cell_type": "markdown",
      "metadata": {
        "id": "RGO0qnHFBSLk"
      },
      "source": [
        "## Estado como skill"
      ]
    },
    {
      "cell_type": "code",
      "execution_count": null,
      "metadata": {
        "id": "ThergOiJ4iH2"
      },
      "outputs": [],
      "source": [
        "# DUAS EQUIPES\n",
        "\n",
        "CTFPFunction('https://raw.githubusercontent.com/natalialidia/analise-parlamentos/main/brcongress-instances/congress-2014-v1.g',\n",
        "             'https://raw.githubusercontent.com/natalialidia/analise-parlamentos/main/brcongress-instances/state-as-skill/2014.txt',\n",
        "             'https://raw.githubusercontent.com/natalialidia/analise-parlamentos/main/brcongress-instances/party-as-skill/2014.txt',\n",
        "             2,\n",
        "             3.5,\n",
        "             numUsersSep=\"\\t\")"
      ]
    },
    {
      "cell_type": "markdown",
      "metadata": {
        "id": "FesxvOzEW8J4"
      },
      "source": [
        "# 2015"
      ]
    },
    {
      "cell_type": "markdown",
      "metadata": {
        "id": "UlT51wrT97Jp"
      },
      "source": [
        "## Estado como skill"
      ]
    },
    {
      "cell_type": "code",
      "execution_count": 63,
      "metadata": {
        "colab": {
          "base_uri": "https://localhost:8080/"
        },
        "id": "DOgAg5OAW-iF",
        "outputId": "91c13c67-e68e-4bd5-d057-c11e48775989"
      },
      "outputs": [
        {
          "output_type": "stream",
          "name": "stdout",
          "text": [
            "Número usuários: 552\n",
            "Matriz de relacionamentos [[0 0 0 ... 0 1 1]\n",
            " [0 0 0 ... 0 0 0]\n",
            " [0 0 0 ... 0 1 1]\n",
            " ...\n",
            " [0 0 0 ... 0 0 0]\n",
            " [1 0 1 ... 0 0 1]\n",
            " [1 0 1 ... 0 1 0]]\n",
            "Densidade do grafo: 0.025217654330729374\n",
            "Número de arestas positivas e negativas: {-1: 775.0, 0: 148517.0, 1: 3060.0}\n",
            "\n",
            "\n",
            "Número de skills: 27\n",
            "Lista de skills: {0: 'PE', 1: 'DF', 2: 'CE', 3: 'RR', 4: 'SP', 5: 'PI', 6: 'PA', 7: 'BA', 8: 'RJ', 9: 'PR', 10: 'RS', 11: 'MG', 12: 'GO', 13: 'MA', 14: 'SC', 15: 'AP', 16: 'PB', 17: 'AL', 18: 'AM', 19: 'ES', 20: 'RO', 21: 'MS', 22: 'TO', 23: 'SE', 24: 'MT', 25: 'RN', 26: 'AC'}\n",
            "\n",
            "\n",
            "Demanda de cada time: [[ 9  3  8  3 26  5  6 14 18 10 11 18  6  7  6  3  4  3  3  3  3  3  3  3\n",
            "   3  3  3]\n",
            " [ 9  3  8  3 26  5  6 14 18 10 11 18  6  7  6  3  4  3  3  3  3  3  3  3\n",
            "   3  3  3]]\n",
            "\n",
            "\n",
            "\n",
            "\n",
            "Total de indivíduos alocados: 538.0\n",
            "\n",
            "Resultados da equipe 0\n",
            "Número de indivíduos na equipe: 329.0\n",
            "Número de indíviduos em cada skill: PE: 16.0 | DF: 5.0 | CE: 17.0 | RR: 4.0 | SP: 51.0 | PI: 7.0 | PA: 11.0 | BA: 27.0 | RJ: 31.0 | PR: 17.0 | RS: 19.0 | MG: 33.0 | GO: 12.0 | MA: 10.0 | SC: 12.0 | AP: 4.0 | PB: 9.0 | AL: 5.0 | AM: 3.0 | ES: 5.0 | RO: 5.0 | MS: 5.0 | TO: 4.0 | SE: 5.0 | MT: 3.0 | RN: 4.0 | AC: 5.0\n",
            "Número de indíviduos em cada skill secundária: PSC: 10.0 | PSDB: 32.0 | PMDB: 48.0 | PSB: 20.0 | PRB: 16.0 | PP: 30.0 | PTN: 1.0 | PT: 28.0 | PTB: 18.0 | PPS: 7.0 | PDT: 7.0 | PSOL: 1.0 | DEM: 11.0 | SOLIDARIED: 9.0 | PSD: 28.0 | PR: 25.0 | PCDOB: 9.0 | PROS: 9.0 | PV: 6.0 | PHS: 5.0 | PTDOB: 0.0 | PSDC: 1.0 | PRTB: 1.0 | PTC: 1.0 | PSL: 1.0 | PEN: 1.0 | PRP: 2.0 | PMN: 2.0 | REDE: 0.0 | S.PART.: 0.0\n",
            "\n",
            "\n",
            "Resultados da equipe 1\n",
            "Número de indivíduos na equipe: 209.0\n",
            "Número de indíviduos em cada skill: PE: 9.0 | DF: 3.0 | CE: 8.0 | RR: 4.0 | SP: 26.0 | PI: 5.0 | PA: 6.0 | BA: 14.0 | RJ: 18.0 | PR: 14.0 | RS: 13.0 | MG: 20.0 | GO: 6.0 | MA: 10.0 | SC: 6.0 | AP: 4.0 | PB: 4.0 | AL: 4.0 | AM: 5.0 | ES: 5.0 | RO: 3.0 | MS: 3.0 | TO: 4.0 | SE: 3.0 | MT: 5.0 | RN: 4.0 | AC: 3.0\n",
            "Número de indíviduos em cada skill secundária: PSC: 4.0 | PSDB: 23.0 | PMDB: 22.0 | PSB: 13.0 | PRB: 4.0 | PP: 11.0 | PTN: 3.0 | PT: 40.0 | PTB: 7.0 | PPS: 5.0 | PDT: 15.0 | PSOL: 3.0 | DEM: 12.0 | SOLIDARIED: 9.0 | PSD: 7.0 | PR: 9.0 | PCDOB: 4.0 | PROS: 5.0 | PV: 4.0 | PHS: 0.0 | PTDOB: 2.0 | PSDC: 1.0 | PRTB: 0.0 | PTC: 1.0 | PSL: 0.0 | PEN: 1.0 | PRP: 1.0 | PMN: 1.0 | REDE: 1.0 | S.PART.: 1.0\n",
            "\n",
            "\n"
          ]
        }
      ],
      "source": [
        "# DUAS EQUIPES\n",
        "\n",
        "CTFPFunction('https://raw.githubusercontent.com/natalialidia/analise-parlamentos/main/brcongress-instances/congress-2015-v1.g',\n",
        "             'https://raw.githubusercontent.com/natalialidia/analise-parlamentos/main/brcongress-instances/state-as-skill/2015.txt',\n",
        "             'https://raw.githubusercontent.com/natalialidia/analise-parlamentos/main/brcongress-instances/party-as-skill/2015.txt',\n",
        "             2,\n",
        "             3,\n",
        "             numUsersSep=\"\\t\")"
      ]
    },
    {
      "cell_type": "markdown",
      "metadata": {
        "id": "1nyeYcbCCQ7j"
      },
      "source": [
        "## Partido como skill"
      ]
    },
    {
      "cell_type": "code",
      "execution_count": 64,
      "metadata": {
        "colab": {
          "base_uri": "https://localhost:8080/"
        },
        "id": "8esu4AQpCTcH",
        "outputId": "37889782-8ea9-43b2-c77a-35fd159adb15"
      },
      "outputs": [
        {
          "output_type": "stream",
          "name": "stdout",
          "text": [
            "Número usuários: 552\n",
            "Matriz de relacionamentos [[0 0 0 ... 0 1 1]\n",
            " [0 0 0 ... 0 0 0]\n",
            " [0 0 0 ... 0 1 1]\n",
            " ...\n",
            " [0 0 0 ... 0 0 0]\n",
            " [1 0 1 ... 0 0 1]\n",
            " [1 0 1 ... 0 1 0]]\n",
            "Densidade do grafo: 0.025217654330729374\n",
            "Número de arestas positivas e negativas: {-1: 775.0, 0: 148517.0, 1: 3060.0}\n",
            "\n",
            "\n",
            "Número de skills: 30\n",
            "Lista de skills: {0: 'PSC', 1: 'PSDB', 2: 'PMDB', 3: 'PSB', 4: 'PRB', 5: 'PP', 6: 'PTN', 7: 'PT', 8: 'PTB', 9: 'PPS', 10: 'PDT', 11: 'PSOL', 12: 'DEM', 13: 'SOLIDARIED', 14: 'PSD', 15: 'PR', 16: 'PCDOB', 17: 'PROS', 18: 'PV', 19: 'PHS', 20: 'PTDOB', 21: 'PSDC', 22: 'PRTB', 23: 'PTC', 24: 'PSL', 25: 'PEN', 26: 'PRP', 27: 'PMN', 28: 'REDE', 29: 'S.PART.'}\n",
            "\n",
            "\n",
            "Demanda de cada time: [[ 6 22 30 14  8 16  2 28 10  5  9  2  9  7 15 14  5  6  4  2  1  1  0  1\n",
            "   0  1  1  1  0  0]\n",
            " [ 6 22 30 14  8 16  2 28 10  5  9  2  9  7 15 14  5  6  4  2  1  1  0  1\n",
            "   0  1  1  1  0  0]]\n",
            "\n",
            "\n",
            "\n",
            "\n",
            "Total de indivíduos alocados: 537.0\n",
            "\n",
            "Resultados da equipe 0\n",
            "Número de indivíduos na equipe: 260.0\n",
            "Número de indíviduos em cada skill: PSC: 8.0 | PSDB: 32.0 | PMDB: 34.0 | PSB: 14.0 | PRB: 8.0 | PP: 21.0 | PTN: 2.0 | PT: 28.0 | PTB: 10.0 | PPS: 5.0 | PDT: 13.0 | PSOL: 2.0 | DEM: 10.0 | SOLIDARIED: 11.0 | PSD: 15.0 | PR: 19.0 | PCDOB: 5.0 | PROS: 7.0 | PV: 5.0 | PHS: 3.0 | PTDOB: 1.0 | PSDC: 1.0 | PRTB: 1.0 | PTC: 1.0 | PSL: 0.0 | PEN: 1.0 | PRP: 1.0 | PMN: 2.0 | REDE: 0.0 | S.PART.: 0.0\n",
            "Número de indíviduos em cada skill secundária: PE: 9.0 | DF: 2.0 | CE: 11.0 | RR: 3.0 | SP: 31.0 | PI: 5.0 | PA: 6.0 | BA: 21.0 | RJ: 23.0 | PR: 13.0 | RS: 15.0 | MG: 25.0 | GO: 11.0 | MA: 10.0 | SC: 8.0 | AP: 4.0 | PB: 7.0 | AL: 8.0 | AM: 5.0 | ES: 6.0 | RO: 4.0 | MS: 6.0 | TO: 4.0 | SE: 4.0 | MT: 7.0 | RN: 5.0 | AC: 7.0\n",
            "\n",
            "\n",
            "Resultados da equipe 1\n",
            "Número de indivíduos na equipe: 277.0\n",
            "Número de indíviduos em cada skill: PSC: 6.0 | PSDB: 23.0 | PMDB: 36.0 | PSB: 19.0 | PRB: 12.0 | PP: 20.0 | PTN: 2.0 | PT: 40.0 | PTB: 15.0 | PPS: 7.0 | PDT: 9.0 | PSOL: 2.0 | DEM: 13.0 | SOLIDARIED: 7.0 | PSD: 19.0 | PR: 15.0 | PCDOB: 8.0 | PROS: 7.0 | PV: 5.0 | PHS: 2.0 | PTDOB: 1.0 | PSDC: 1.0 | PRTB: 0.0 | PTC: 1.0 | PSL: 1.0 | PEN: 1.0 | PRP: 2.0 | PMN: 1.0 | REDE: 1.0 | S.PART.: 1.0\n",
            "Número de indíviduos em cada skill secundária: PE: 16.0 | DF: 6.0 | CE: 14.0 | RR: 5.0 | SP: 46.0 | PI: 7.0 | PA: 11.0 | BA: 20.0 | RJ: 26.0 | PR: 18.0 | RS: 17.0 | MG: 28.0 | GO: 6.0 | MA: 10.0 | SC: 10.0 | AP: 4.0 | PB: 6.0 | AL: 1.0 | AM: 3.0 | ES: 4.0 | RO: 4.0 | MS: 2.0 | TO: 4.0 | SE: 4.0 | MT: 1.0 | RN: 3.0 | AC: 1.0\n",
            "\n",
            "\n"
          ]
        }
      ],
      "source": [
        "# DUAS EQUIPES\n",
        "\n",
        "CTFPFunction('https://raw.githubusercontent.com/natalialidia/analise-parlamentos/main/brcongress-instances/congress-2015-v1.g',\n",
        "             'https://raw.githubusercontent.com/natalialidia/analise-parlamentos/main/brcongress-instances/party-as-skill/2015.txt',\n",
        "             'https://raw.githubusercontent.com/natalialidia/analise-parlamentos/main/brcongress-instances/state-as-skill/2015.txt',\n",
        "             2,\n",
        "             2.5,\n",
        "             numUsersSep=\"\\t\")"
      ]
    },
    {
      "cell_type": "markdown",
      "metadata": {
        "id": "GQHejR-kXh3C"
      },
      "source": [
        "# 2016"
      ]
    },
    {
      "cell_type": "markdown",
      "metadata": {
        "id": "3fRgezXm-xeo"
      },
      "source": [
        "## Estado como skill"
      ]
    },
    {
      "cell_type": "code",
      "execution_count": null,
      "metadata": {
        "colab": {
          "base_uri": "https://localhost:8080/"
        },
        "id": "4e8_zSIpXkOm",
        "outputId": "2619a9b7-47c8-47cc-d3ad-87f450371059"
      },
      "outputs": [
        {
          "name": "stdout",
          "output_type": "stream",
          "text": [
            "Número usuários: 544\n",
            "Matriz de relacionamentos [[0 0 0 ... 1 0 1]\n",
            " [0 0 0 ... 0 0 1]\n",
            " [0 0 0 ... 0 0 1]\n",
            " ...\n",
            " [1 0 0 ... 0 0 1]\n",
            " [0 0 0 ... 0 0 1]\n",
            " [1 1 1 ... 1 1 0]]\n",
            "\n",
            "\n",
            "Número de skills: 27\n",
            "Lista de skills: {0: 'PE', 1: 'DF', 2: 'CE', 3: 'RR', 4: 'SP', 5: 'PI', 6: 'PA', 7: 'BA', 8: 'RJ', 9: 'PR', 10: 'RS', 11: 'MG', 12: 'GO', 13: 'MA', 14: 'SC', 15: 'MT', 16: 'AP', 17: 'PB', 18: 'AL', 19: 'AM', 20: 'ES', 21: 'RO', 22: 'MS', 23: 'TO', 24: 'SE', 25: 'RN', 26: 'AC'}\n",
            "\n",
            "\n",
            "Demanda de cada time: [[10  3  8  3 24  4  6 13 17 11 11 19  6  6  6  3  3  4  3  3  3  3  3  3\n",
            "   3  3  3]\n",
            " [10  3  8  3 24  4  6 13 17 11 11 19  6  6  6  3  3  4  3  3  3  3  3  3\n",
            "   3  3  3]]\n",
            "\n",
            "\n",
            "\n",
            "\n",
            "Total de indivíduos alocados: 497.0\n",
            "\n",
            "Resultados da equipe 0\n",
            "Número de indivíduos na equipe: 311.0\n",
            "Número de indíviduos em cada skill: PE: 15.0 | DF: 5.0 | CE: 12.0 | RR: 4.0 | SP: 45.0 | PI: 6.0 | PA: 10.0 | BA: 25.0 | RJ: 28.0 | PR: 15.0 | RS: 19.0 | MG: 33.0 | GO: 12.0 | MA: 12.0 | SC: 10.0 | MT: 6.0 | AP: 4.0 | PB: 8.0 | AL: 4.0 | AM: 5.0 | ES: 7.0 | RO: 4.0 | MS: 5.0 | TO: 4.0 | SE: 5.0 | RN: 5.0 | AC: 3.0\n",
            "Número de indíviduos em cada skill secundária: PTDOB: 0.0 | PSDB: 47.0 | PSB: 25.0 | PP: 22.0 | PSC: 10.0 | PTN: 6.0 | PMDB: 32.0 | PT: 30.0 | PTB: 12.0 | PRB: 6.0 | PPS: 10.0 | PDT: 6.0 | PSOL: 2.0 | DEM: 25.0 | SOLIDARIED: 11.0 | PSD: 20.0 | PR: 18.0 | PCDOB: 6.0 | PROS: 2.0 | PV: 4.0 | REDE: 5.0 | PEN: 3.0 | PSL: 4.0 | PMB: 2.0 | PHS: 1.0 | PTC: 1.0 | S.PART.: 1.0 | PMN: 0.0 | PRP: 0.0\n",
            "\n",
            "\n",
            "Resultados da equipe 1\n",
            "Número de indivíduos na equipe: 186.0\n",
            "Número de indíviduos em cada skill: PE: 10.0 | DF: 3.0 | CE: 8.0 | RR: 4.0 | SP: 24.0 | PI: 4.0 | PA: 6.0 | BA: 13.0 | RJ: 17.0 | PR: 11.0 | RS: 11.0 | MG: 19.0 | GO: 6.0 | MA: 6.0 | SC: 6.0 | MT: 3.0 | AP: 3.0 | PB: 4.0 | AL: 3.0 | AM: 3.0 | ES: 3.0 | RO: 3.0 | MS: 3.0 | TO: 4.0 | SE: 3.0 | RN: 3.0 | AC: 3.0\n",
            "Número de indíviduos em cada skill secundária: PTDOB: 2.0 | PSDB: 1.0 | PSB: 6.0 | PP: 20.0 | PSC: 2.0 | PTN: 4.0 | PMDB: 29.0 | PT: 27.0 | PTB: 9.0 | PRB: 14.0 | PPS: 0.0 | PDT: 14.0 | PSOL: 3.0 | DEM: 1.0 | SOLIDARIED: 4.0 | PSD: 11.0 | PR: 19.0 | PCDOB: 6.0 | PROS: 4.0 | PV: 1.0 | REDE: 0.0 | PEN: 0.0 | PSL: 0.0 | PMB: 5.0 | PHS: 3.0 | PTC: 0.0 | S.PART.: 0.0 | PMN: 1.0 | PRP: 0.0\n",
            "\n",
            "\n"
          ]
        }
      ],
      "source": [
        "# DUAS EQUIPES\n",
        "\n",
        "CTFPFunction('https://raw.githubusercontent.com/natalialidia/analise-parlamentos/main/brcongress-instances/congress-2016-v1.g',\n",
        "             'https://raw.githubusercontent.com/natalialidia/analise-parlamentos/main/brcongress-instances/state-as-skill/2016.txt',\n",
        "             'https://raw.githubusercontent.com/natalialidia/analise-parlamentos/main/brcongress-instances/party-as-skill/2016.txt',\n",
        "             2,\n",
        "             3,\n",
        "             numUsersSep=\"\\t\")"
      ]
    },
    {
      "cell_type": "markdown",
      "metadata": {
        "id": "osN4k_yJ-3s4"
      },
      "source": [
        "## Partido como skill"
      ]
    },
    {
      "cell_type": "code",
      "execution_count": null,
      "metadata": {
        "colab": {
          "base_uri": "https://localhost:8080/"
        },
        "id": "PeoGS6X2-7z3",
        "outputId": "764b9354-1986-424d-e10c-dc805acd7eb0"
      },
      "outputs": [
        {
          "name": "stdout",
          "output_type": "stream",
          "text": [
            "Número usuários: 544\n",
            "Matriz de relacionamentos [[0 0 0 ... 1 0 1]\n",
            " [0 0 0 ... 0 0 1]\n",
            " [0 0 0 ... 0 0 1]\n",
            " ...\n",
            " [1 0 0 ... 0 0 1]\n",
            " [0 0 0 ... 0 0 1]\n",
            " [1 1 1 ... 1 1 0]]\n",
            "Densidade do grafo: 0.0416531253385332\n",
            "Número de arestas positivas e negativas: {-1: 657.0, 0: 141816.0, 1: 5495.0}\n",
            "\n",
            "\n",
            "Número de skills: 29\n",
            "Lista de skills: {0: 'PTDOB', 1: 'PSDB', 2: 'PSB', 3: 'PP', 4: 'PSC', 5: 'PTN', 6: 'PMDB', 7: 'PT', 8: 'PTB', 9: 'PRB', 10: 'PPS', 11: 'PDT', 12: 'PSOL', 13: 'DEM', 14: 'SOLIDARIED', 15: 'PSD', 16: 'PR', 17: 'PCDOB', 18: 'PROS', 19: 'PV', 20: 'REDE', 21: 'PEN', 22: 'PSL', 23: 'PMB', 24: 'PHS', 25: 'PTC', 26: 'S.PART.', 27: 'PMN', 28: 'PRP'}\n",
            "\n",
            "\n",
            "Demanda de cada time: [[ 1 18 11 16  5  4 24 20  7  7  3  7  2  9  6 11 14  4  2  2  2  1  1  2\n",
            "   1  0  0  0  0]\n",
            " [ 1 18 11 16  5  4 24 20  7  7  3  7  2  9  6 11 14  4  2  2  2  1  1  2\n",
            "   1  0  0  0  0]]\n",
            "\n",
            "\n"
          ]
        }
      ],
      "source": [
        "# DUAS EQUIPES\n",
        "\n",
        "CTFPFunction('https://raw.githubusercontent.com/natalialidia/analise-parlamentos/main/brcongress-instances/congress-2016-v1.g',\n",
        "             'https://raw.githubusercontent.com/natalialidia/analise-parlamentos/main/brcongress-instances/party-as-skill/2016.txt',\n",
        "             'https://raw.githubusercontent.com/natalialidia/analise-parlamentos/main/brcongress-instances/state-as-skill/2016.txt',\n",
        "             2,\n",
        "             3,\n",
        "             numUsersSep=\"\\t\")"
      ]
    }
  ],
  "metadata": {
    "colab": {
      "collapsed_sections": [
        "1svK1BSv41tK",
        "giBLGhYZrk8V",
        "iCu0rFnNtsRv",
        "wzwZ4cvBt3Xc",
        "c4VTJDCrt7w1",
        "TwrQS89E5Ac6",
        "7ZsbGp7C5EM4",
        "lTxzZwFSIlHJ",
        "-2uHBFza4c7e",
        "1nyeYcbCCQ7j",
        "GQHejR-kXh3C",
        "3fRgezXm-xeo"
      ],
      "provenance": [],
      "authorship_tag": "ABX9TyOvc7F2nb4Lh9ezuDw5iSCP"
    },
    "kernelspec": {
      "display_name": "Python 3",
      "name": "python3"
    },
    "language_info": {
      "name": "python"
    }
  },
  "nbformat": 4,
  "nbformat_minor": 0
}