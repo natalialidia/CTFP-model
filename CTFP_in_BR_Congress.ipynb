{
  "cells": [
    {
      "cell_type": "code",
      "execution_count": 1,
      "metadata": {
        "colab": {
          "base_uri": "https://localhost:8080/"
        },
        "id": "JKpq9D5EtjY_",
        "outputId": "05092be7-fd77-444f-ff34-2750356ce035"
      },
      "outputs": [
        {
          "output_type": "stream",
          "name": "stdout",
          "text": [
            "Looking in indexes: https://pypi.org/simple, https://us-python.pkg.dev/colab-wheels/public/simple/\n",
            "Collecting mip\n",
            "  Downloading mip-1.15.0-py3-none-any.whl (15.3 MB)\n",
            "\u001b[2K     \u001b[90m━━━━━━━━━━━━━━━━━━━━━━━━━━━━━━━━━━━━━━━━\u001b[0m \u001b[32m15.3/15.3 MB\u001b[0m \u001b[31m32.9 MB/s\u001b[0m eta \u001b[36m0:00:00\u001b[0m\n",
            "\u001b[?25hRequirement already satisfied: cffi==1.15.* in /usr/local/lib/python3.8/dist-packages (from mip) (1.15.1)\n",
            "Requirement already satisfied: pycparser in /usr/local/lib/python3.8/dist-packages (from cffi==1.15.*->mip) (2.21)\n",
            "Installing collected packages: mip\n",
            "Successfully installed mip-1.15.0\n"
          ]
        }
      ],
      "source": [
        "pip install mip"
      ]
    },
    {
      "cell_type": "code",
      "execution_count": 2,
      "metadata": {
        "id": "YN9oqZmLGn5Q"
      },
      "outputs": [],
      "source": [
        "import numpy as np\n",
        "import urllib.request \n",
        "from mip import Model, xsum, maximize, BINARY, LinExpr"
      ]
    },
    {
      "cell_type": "code",
      "execution_count": 3,
      "metadata": {
        "id": "s7e_0hYV6WRp"
      },
      "outputs": [],
      "source": [
        "def CTFPFunction(graphUrl, skillsUrl, secondarySkillsUrl, numTeams, teamUsersProportion, graphSep = \"\\n\", numUsersSep = \" \", skillsSep = \"\\n\", numSkillsSep = \" \"):\n",
        "\n",
        "  #1 - CRIANDO MATRIZ DE ADJACÊNCIA DAS RELAÇÕES ENTRE OS USUÁRIOS\n",
        "  graph = urllib.request.urlopen(graphUrl).read().decode('utf-8').split(graphSep)\n",
        "  del graph[-1] #vazio\n",
        "\n",
        "  numUsers = int(graph[0].split(numUsersSep)[0])\n",
        "  relationships = np.zeros(numUsers*numUsers, dtype=np.int64).reshape(numUsers,numUsers)\n",
        "\n",
        "  for line in graph[1:]:\n",
        "    l = [x for x in line.split(\" \") if x]\n",
        "    l[0] = int(l[0])\n",
        "    l[1] = int(l[1])\n",
        "    l[2] = round(float(l[2]))\n",
        "    if int(l[0]) < numUsers and int(l[1]) < numUsers:\n",
        "      relationships[l[0],l[1]] = relationships[l[1],l[0]] = int(l[2])\n",
        "\n",
        "  print(f'Número usuários: {numUsers}')\n",
        "  print(f'Matriz de relacionamentos {relationships}')\n",
        "  print('\\n')\n",
        "\n",
        "\n",
        "  #2 - DEFININDO CONJUNTO DE SKILLS DE CADA USUÁRIO\n",
        "  skillsData = urllib.request.urlopen(skillsUrl).read().decode('utf-8').split(skillsSep)\n",
        "  numSkills = int(skillsData[0].split(numSkillsSep)[0])\n",
        "\n",
        "  print(f'Número de skills: {numSkills}')\n",
        "  lstSkills = skillsData[0].split(numSkillsSep)[1:]\n",
        "  mapSkills = {int(lstSkills[i].split(\":\")[0]):lstSkills[i].split(\":\")[1] for i in range(len(lstSkills))}\n",
        "  print(f'Lista de skills: {mapSkills}')\n",
        "  print('\\n')\n",
        "\n",
        "\n",
        "  #3 - CONTANDO O NÚMERO DE USUÁRIOS PARA CADA SKILL\n",
        "  usersSkillsMatrix = np.zeros(numUsers*numSkills, dtype=np.int64).reshape(numUsers,numSkills)\n",
        "\n",
        "  for index,item in enumerate(skillsData[1:]):\n",
        "    usersSkillsMatrix[index] = np.asarray(item.split(\" \"))\n",
        "\n",
        "  numUsersBySkill = usersSkillsMatrix.sum(axis=0)\n",
        "\n",
        "\n",
        "  #4 - FUNÇÃO QUE RETORNA O CONJUNTO DE SKILLS DE UM USUÁRIO\n",
        "  def userSkillSet(user):\n",
        "    return np.asarray([id for id,s in enumerate(skillsData[user+1].split(\" \")) if s and int(s) == 1])\n",
        "\n",
        "  \n",
        "  #5 - DEFININDO DEMANDA DE USUÁRIOS POR SKILL PARA CADA TIME\n",
        "  teamDemand = np.full((numTeams, numSkills), 1, dtype=np.int64)\n",
        "\n",
        "  for index,item in enumerate(numUsersBySkill):\n",
        "    for num in range(numTeams):\n",
        "      teamDemand[num][index] = round(item/teamUsersProportion)\n",
        "\n",
        "  print(f'Demanda de cada time: {teamDemand}')\n",
        "  print('\\n')\n",
        "\n",
        "  #6 - CONJUNTO DE SKILLS QUE CADA TIME PRECISA\n",
        "  def demandSkillSet(team):\n",
        "    return np.asarray([id for id,s in enumerate(teamDemand[team]) if s > 0])\n",
        "\n",
        "\n",
        "  #7 - IMPLEMENTAÇÃO DO MODELO\n",
        "  model = Model(\"CTFP\")\n",
        "\n",
        "  #7.1 - Variáveis\n",
        "  x = [[[model.add_var(var_type=BINARY) for s in range(numSkills)] for u in range(numUsers)] for t in range(numTeams)]\n",
        "\n",
        "  #7.2 - Função objetivo\n",
        "  model.objective = maximize(xsum( xsum( xsum( x[t][u][s] for s in userSkillSet(u) ) for u in range(numUsers) ) for t in range(numTeams)))\n",
        "\n",
        "  #7.3 - Restrições\n",
        "\n",
        "  #restrição (63)\n",
        "  for t in range(numTeams):\n",
        "    for u in range(numUsers):\n",
        "      for v in range(numUsers):\n",
        "        if relationships[u,v] == -1:\n",
        "          model += xsum(x[t][u][s] for s in userSkillSet(u)) + xsum(x[t][v][s] for s in userSkillSet(v)) <= 1\n",
        "\n",
        "  #restrição (64)\n",
        "  for t1 in range(numTeams):\n",
        "    for t2 in np.arange(t1+1, numTeams, 1):\n",
        "      for u in range(numUsers):\n",
        "        for v in range(numUsers):\n",
        "          if relationships[u,v] == 1:\n",
        "            model += xsum(x[t1][u][s] for s in userSkillSet(u)) + xsum(x[t2][v][s] for s in userSkillSet(v)) <= 1\n",
        "\n",
        "  #restrição (65)\n",
        "  for u in range(numUsers):\n",
        "    model += xsum( xsum( x[t][u][s] for s in userSkillSet(u)) for t in range(numTeams)) <= 1\n",
        "\n",
        "  #restrição (66)\n",
        "  for t in range(numTeams):\n",
        "    for s in demandSkillSet(t):\n",
        "      model += xsum( x[t][u][s] for u in range(numUsers) if s in userSkillSet(u)) >= teamDemand[t,s]\n",
        "\n",
        "  model.optimize()\n",
        "\n",
        "  print('\\n')\n",
        "\n",
        "  result = model.objective_value\n",
        "\n",
        "  print(f'Total de indivíduos alocados: {result}\\n')\n",
        "\n",
        "  if result == None:\n",
        "    return\n",
        "\n",
        "  secondarySkillsData = urllib.request.urlopen(secondarySkillsUrl).read().decode('utf-8').split(skillsSep)\n",
        "  numSecondarySkills = int(secondarySkillsData[0].split(numSkillsSep)[0])\n",
        "\n",
        "  lstSecondarySkills = secondarySkillsData[0].split(numSkillsSep)[1:]\n",
        "  mapSecondarySkills = {int(lstSecondarySkills[i].split(\":\")[0]):lstSecondarySkills[i].split(\":\")[1] for i in range(len(lstSecondarySkills))}\n",
        "\n",
        "  def userSecondarySkillSet(user):\n",
        "    return np.asarray([id for id,s in enumerate(secondarySkillsData[user+1].split(\" \")) if s and int(s) == 1])\n",
        "\n",
        "  for teamIdx,team in enumerate(x):\n",
        "    usersCount = 0\n",
        "    skillsUsersCount = [0] * numSkills\n",
        "    secondarySkillsUserCount = [0] * numSecondarySkills\n",
        "    for userIdx,user in enumerate(team):\n",
        "      for skillIdx,skill in enumerate(user):\n",
        "        skillsUsersCount[skillIdx] += skill.x\n",
        "        usersCount += skill.x\n",
        "        for s in userSecondarySkillSet(userIdx):\n",
        "          secondarySkillsUserCount[s] += skill.x\n",
        "    \n",
        "    print(f'Resultados da equipe {teamIdx}')\n",
        "\n",
        "    skillsUsersCountStr = ' | '.join(mapSkills[ind]+': '+str(count) for ind, count in enumerate(skillsUsersCount))\n",
        "    secondarySkillsUsersCountStr = ' | '.join(mapSecondarySkills[ind]+': '+str(count) for ind, count in enumerate(secondarySkillsUserCount))\n",
        "    print(f'Número de indivíduos na equipe: {usersCount}')\n",
        "    print(f'Número de indíviduos em cada skill: {skillsUsersCountStr}')\n",
        "    print(f'Número de indíviduos em cada skill secundária: {secondarySkillsUsersCountStr}')\n",
        "\n",
        "    print('\\n')"
      ]
    },
    {
      "cell_type": "markdown",
      "metadata": {
        "id": "1svK1BSv41tK"
      },
      "source": [
        "## 2010"
      ]
    },
    {
      "cell_type": "code",
      "execution_count": 4,
      "metadata": {
        "id": "2qZt7takT2Lk",
        "colab": {
          "base_uri": "https://localhost:8080/"
        },
        "outputId": "22176cd3-6eb2-41f0-e4f5-66e0f2ed745e"
      },
      "outputs": [
        {
          "output_type": "stream",
          "name": "stdout",
          "text": [
            "Número usuários: 545\n",
            "Matriz de relacionamentos [[0 1 1 ... 0 1 1]\n",
            " [1 0 1 ... 0 1 0]\n",
            " [1 1 0 ... 0 1 1]\n",
            " ...\n",
            " [0 0 0 ... 0 0 0]\n",
            " [1 1 1 ... 0 0 0]\n",
            " [1 0 1 ... 0 0 0]]\n",
            "\n",
            "\n",
            "Número de skills: 27\n",
            "Lista de skills: {0: 'MG', 1: 'SP', 2: 'RJ', 3: 'BA', 4: 'PE', 5: 'RR', 6: 'MS', 7: 'PR', 8: 'SC', 9: 'RS', 10: 'MT', 11: 'ES', 12: 'DF', 13: 'CE', 14: 'TO', 15: 'GO', 16: 'AP', 17: 'PA', 18: 'AM', 19: 'RO', 20: 'AC', 21: 'AL', 22: 'MA', 23: 'RN', 24: 'PB', 25: 'SE', 26: 'PI'}\n",
            "\n",
            "\n",
            "Demanda de cada time: [[11 14 10  9  5  2  2  6  4  6  2  2  2  5  2  3  2  4  2  2  2  2  4  2\n",
            "   2  2  2]\n",
            " [11 14 10  9  5  2  2  6  4  6  2  2  2  5  2  3  2  4  2  2  2  2  4  2\n",
            "   2  2  2]]\n",
            "\n",
            "\n",
            "\n",
            "\n",
            "Total de indivíduos alocados: 331.0\n",
            "\n",
            "Resultados da equipe 0\n",
            "Número de indivíduos na equipe: 157.0\n",
            "Número de indíviduos em cada skill: MG: 14.0 | SP: 23.0 | RJ: 19.0 | BA: 11.0 | PE: 7.0 | RR: 2.0 | MS: 4.0 | PR: 10.0 | SC: 4.0 | RS: 8.0 | MT: 2.0 | ES: 6.0 | DF: 3.0 | CE: 7.0 | TO: 2.0 | GO: 3.0 | AP: 3.0 | PA: 4.0 | AM: 2.0 | RO: 2.0 | AC: 2.0 | AL: 2.0 | MA: 7.0 | RN: 3.0 | PB: 3.0 | SE: 2.0 | PI: 2.0\n",
            "Número de indíviduos em cada skill secundária: DEM: 17.0 | PRB: 2.0 | PT: 11.0 | PTB: 5.0 | PSB: 9.0 | PMDB: 25.0 | PP: 5.0 | PCDOB: 4.0 | PSDB: 38.0 | PR: 3.0 | PPS: 6.0 | PDT: 13.0 | PSOL: 2.0 | PSC: 5.0 | PHS: 1.0 | PV: 6.0 | PTC: 2.0 | PMN: 3.0 | PTDOB: 0.0\n",
            "\n",
            "\n",
            "Resultados da equipe 1\n",
            "Número de indivíduos na equipe: 174.0\n",
            "Número de indíviduos em cada skill: MG: 21.0 | SP: 26.0 | RJ: 19.0 | BA: 15.0 | PE: 8.0 | RR: 2.0 | MS: 4.0 | PR: 7.0 | SC: 4.0 | RS: 6.0 | MT: 2.0 | ES: 2.0 | DF: 3.0 | CE: 8.0 | TO: 2.0 | GO: 4.0 | AP: 4.0 | PA: 7.0 | AM: 4.0 | RO: 3.0 | AC: 2.0 | AL: 3.0 | MA: 4.0 | RN: 3.0 | PB: 4.0 | SE: 4.0 | PI: 3.0\n",
            "Número de indíviduos em cada skill secundária: DEM: 2.0 | PRB: 3.0 | PT: 35.0 | PTB: 10.0 | PSB: 15.0 | PMDB: 35.0 | PP: 13.0 | PCDOB: 5.0 | PSDB: 2.0 | PR: 24.0 | PPS: 2.0 | PDT: 8.0 | PSOL: 1.0 | PSC: 8.0 | PHS: 1.0 | PV: 9.0 | PTC: 0.0 | PMN: 0.0 | PTDOB: 1.0\n",
            "\n",
            "\n"
          ]
        }
      ],
      "source": [
        "#duas equipes\n",
        "\n",
        "CTFPFunction('https://raw.githubusercontent.com/natalialidia/analise-parlamentos/main/brcongress-instances/congress-2010-v1.g',\n",
        "             'https://raw.githubusercontent.com/natalialidia/analise-parlamentos/main/brcongress-instances/state-as-skill/2010.txt',\n",
        "             'https://raw.githubusercontent.com/natalialidia/analise-parlamentos/main/brcongress-instances/party-as-skill/2010.txt',\n",
        "             2,\n",
        "             5,\n",
        "             numUsersSep=\"\\t\")"
      ]
    },
    {
      "cell_type": "code",
      "source": [
        "#três equipes\n",
        "\n",
        "CTFPFunction('https://raw.githubusercontent.com/natalialidia/analise-parlamentos/main/brcongress-instances/congress-2010-v1.g',\n",
        "             'https://raw.githubusercontent.com/natalialidia/analise-parlamentos/main/brcongress-instances/state-as-skill/2010.txt',\n",
        "             'https://raw.githubusercontent.com/natalialidia/analise-parlamentos/main/brcongress-instances/party-as-skill/2010.txt',\n",
        "             3,\n",
        "             5,\n",
        "             numUsersSep=\"\\t\")"
      ],
      "metadata": {
        "colab": {
          "base_uri": "https://localhost:8080/"
        },
        "id": "GQ_xH2xCeyxF",
        "outputId": "4cdf1528-8d39-42e7-f669-6ae67a60d730"
      },
      "execution_count": null,
      "outputs": [
        {
          "output_type": "stream",
          "name": "stdout",
          "text": [
            "Número usuários: 545\n",
            "Matriz de relacionamentos [[0 1 1 ... 0 1 1]\n",
            " [1 0 1 ... 0 1 0]\n",
            " [1 1 0 ... 0 1 1]\n",
            " ...\n",
            " [0 0 0 ... 0 0 0]\n",
            " [1 1 1 ... 0 0 0]\n",
            " [1 0 1 ... 0 0 0]]\n",
            "\n",
            "\n",
            "Número de skills: 27\n",
            "Lista de skills: {0: 'MG', 1: 'SP', 2: 'RJ', 3: 'BA', 4: 'PE', 5: 'RR', 6: 'MS', 7: 'PR', 8: 'SC', 9: 'RS', 10: 'MT', 11: 'ES', 12: 'DF', 13: 'CE', 14: 'TO', 15: 'GO', 16: 'AP', 17: 'PA', 18: 'AM', 19: 'RO', 20: 'AC', 21: 'AL', 22: 'MA', 23: 'RN', 24: 'PB', 25: 'SE', 26: 'PI'}\n",
            "\n",
            "\n",
            "Demanda de cada time: [[11 14 10  9  5  2  2  6  4  6  2  2  2  5  2  3  2  4  2  2  2  2  4  2\n",
            "   2  2  2]\n",
            " [11 14 10  9  5  2  2  6  4  6  2  2  2  5  2  3  2  4  2  2  2  2  4  2\n",
            "   2  2  2]\n",
            " [11 14 10  9  5  2  2  6  4  6  2  2  2  5  2  3  2  4  2  2  2  2  4  2\n",
            "   2  2  2]]\n",
            "\n",
            "\n"
          ]
        }
      ]
    },
    {
      "cell_type": "markdown",
      "metadata": {
        "id": "iCu0rFnNtsRv"
      },
      "source": [
        "## 2011"
      ]
    },
    {
      "cell_type": "code",
      "execution_count": null,
      "metadata": {
        "colab": {
          "base_uri": "https://localhost:8080/"
        },
        "id": "hOXcTha84cPU",
        "outputId": "107fd467-512c-41cd-bc12-a940343ce5f3"
      },
      "outputs": [
        {
          "name": "stdout",
          "output_type": "stream",
          "text": [
            "Número usuários: 553\n",
            "Matriz de relacionamentos [[0 0 0 ... 0 0 1]\n",
            " [0 0 0 ... 0 0 1]\n",
            " [0 0 0 ... 0 0 1]\n",
            " ...\n",
            " [0 0 0 ... 0 0 1]\n",
            " [0 0 0 ... 0 0 0]\n",
            " [1 1 1 ... 1 0 0]]\n",
            "\n",
            "\n",
            "Número de skills: 27\n",
            "Lista de skills: {0: 'MG', 1: 'BA', 2: 'PE', 3: 'DF', 4: 'CE', 5: 'PI', 6: 'AM', 7: 'RJ', 8: 'SP', 9: 'PR', 10: 'SC', 11: 'RS', 12: 'ES', 13: 'GO', 14: 'MT', 15: 'AP', 16: 'PA', 17: 'AC', 18: 'TO', 19: 'RR', 20: 'MA', 21: 'RN', 22: 'PB', 23: 'AL', 24: 'SE', 25: 'MS', 26: 'RO'}\n",
            "\n",
            "\n",
            "Demanda de cada time: [[11  8  5  2  4  2  2 10 15  6  4  6  2  4  2  2  4  2  2  2  4  2  2  2\n",
            "   2  2  2]\n",
            " [11  8  5  2  4  2  2 10 15  6  4  6  2  4  2  2  4  2  2  2  4  2  2  2\n",
            "   2  2  2]]\n",
            "\n",
            "\n",
            "\n",
            "\n",
            "Total de indivíduos alocados: 535.0\n",
            "\n",
            "Resultados da equipe 0\n",
            "Número de indivíduos na equipe: 133.0\n",
            "Número de indíviduos em cada skill: MG: 11.0 | BA: 9.0 | PE: 5.0 | DF: 2.0 | CE: 15.0 | PI: 2.0 | AM: 2.0 | RJ: 10.0 | SP: 15.0 | PR: 8.0 | SC: 4.0 | RS: 6.0 | ES: 2.0 | GO: 4.0 | MT: 2.0 | AP: 2.0 | PA: 9.0 | AC: 2.0 | TO: 2.0 | RR: 2.0 | MA: 4.0 | RN: 2.0 | PB: 2.0 | AL: 2.0 | SE: 5.0 | MS: 2.0 | RO: 2.0\n",
            "Número de indíviduos em cada skill secundária: DEM: 2.0 | PT: 32.0 | PTB: 10.0 | PR: 4.0 | PMDB: 31.0 | PP: 8.0 | PCDOB: 4.0 | PPS: 4.0 | PSOL: 1.0 | PDT: 10.0 | PRB: 4.0 | PSDB: 1.0 | PSB: 6.0 | PSD: 5.0 | PSC: 4.0 | PV: 5.0 | PMN: 0.0 | PTDOB: 2.0 | PHS: 0.0 | PRTB: 0.0 | PSL: 0.0 | PTC: 0.0 | PRP: 0.0\n",
            "\n",
            "\n",
            "Resultados da equipe 1\n",
            "Número de indivíduos na equipe: 402.0\n",
            "Número de indíviduos em cada skill: MG: 43.0 | BA: 31.0 | PE: 20.0 | DF: 7.0 | CE: 7.0 | PI: 8.0 | AM: 6.0 | RJ: 40.0 | SP: 58.0 | PR: 22.0 | SC: 15.0 | RS: 26.0 | ES: 8.0 | GO: 17.0 | MT: 7.0 | AP: 6.0 | PA: 8.0 | AC: 6.0 | TO: 6.0 | RR: 7.0 | MA: 15.0 | RN: 6.0 | PB: 10.0 | AL: 7.0 | SE: 3.0 | MS: 6.0 | RO: 7.0\n",
            "Número de indíviduos em cada skill secundária: DEM: 33.0 | PT: 58.0 | PTB: 11.0 | PR: 33.0 | PMDB: 56.0 | PP: 36.0 | PCDOB: 11.0 | PPS: 8.0 | PSOL: 2.0 | PDT: 19.0 | PRB: 8.0 | PSDB: 52.0 | PSB: 25.0 | PSD: 15.0 | PSC: 14.0 | PV: 7.0 | PMN: 4.0 | PTDOB: 2.0 | PHS: 2.0 | PRTB: 2.0 | PSL: 1.0 | PTC: 1.0 | PRP: 2.0\n",
            "\n",
            "\n"
          ]
        }
      ],
      "source": [
        "# duas equipes \n",
        "\n",
        "CTFPFunction('https://raw.githubusercontent.com/natalialidia/analise-parlamentos/main/brcongress-instances/congress-2011-v1.g',\n",
        "             'https://raw.githubusercontent.com/natalialidia/analise-parlamentos/main/brcongress-instances/state-as-skill/2011.txt',\n",
        "             'https://raw.githubusercontent.com/natalialidia/analise-parlamentos/main/brcongress-instances/party-as-skill/2011.txt',\n",
        "             2,\n",
        "             5,\n",
        "             numUsersSep=\"\\t\")"
      ]
    },
    {
      "cell_type": "code",
      "execution_count": null,
      "metadata": {
        "colab": {
          "background_save": true,
          "base_uri": "https://localhost:8080/"
        },
        "id": "8FusvLDlp5lo",
        "outputId": "985b57c4-575d-4b5c-de71-88fd92c6a491"
      },
      "outputs": [
        {
          "name": "stdout",
          "output_type": "stream",
          "text": [
            "Número usuários: 553\n",
            "Matriz de relacionamentos [[0 0 0 ... 0 0 1]\n",
            " [0 0 0 ... 0 0 1]\n",
            " [0 0 0 ... 0 0 1]\n",
            " ...\n",
            " [0 0 0 ... 0 0 1]\n",
            " [0 0 0 ... 0 0 0]\n",
            " [1 1 1 ... 1 0 0]]\n",
            "\n",
            "\n",
            "Número de skills: 27\n",
            "Lista de skills: {0: 'MG', 1: 'BA', 2: 'PE', 3: 'DF', 4: 'CE', 5: 'PI', 6: 'AM', 7: 'RJ', 8: 'SP', 9: 'PR', 10: 'SC', 11: 'RS', 12: 'ES', 13: 'GO', 14: 'MT', 15: 'AP', 16: 'PA', 17: 'AC', 18: 'TO', 19: 'RR', 20: 'MA', 21: 'RN', 22: 'PB', 23: 'AL', 24: 'SE', 25: 'MS', 26: 'RO'}\n",
            "\n",
            "\n",
            "Demanda de cada time: [[14 11  7  3  6  3  2 14 19  8  6  8  3  6  3  2  5  2  2  2  6  2  3  2\n",
            "   2  2  2]\n",
            " [14 11  7  3  6  3  2 14 19  8  6  8  3  6  3  2  5  2  2  2  6  2  3  2\n",
            "   2  2  2]\n",
            " [14 11  7  3  6  3  2 14 19  8  6  8  3  6  3  2  5  2  2  2  6  2  3  2\n",
            "   2  2  2]]\n",
            "\n",
            "\n"
          ]
        }
      ],
      "source": [
        "#três equipes\n",
        "\n",
        "CTFPFunction('https://raw.githubusercontent.com/natalialidia/analise-parlamentos/main/brcongress-instances/congress-2011-v1.g',\n",
        "             'https://raw.githubusercontent.com/natalialidia/analise-parlamentos/main/brcongress-instances/state-as-skill/2011.txt',\n",
        "             'https://raw.githubusercontent.com/natalialidia/analise-parlamentos/main/brcongress-instances/party-as-skill/2011.txt',\n",
        "             3,\n",
        "             3.8,\n",
        "             numUsersSep=\"\\t\")"
      ]
    },
    {
      "cell_type": "markdown",
      "metadata": {
        "id": "TwrQS89E5Ac6"
      },
      "source": [
        "## 2012"
      ]
    },
    {
      "cell_type": "code",
      "execution_count": null,
      "metadata": {
        "id": "g2W_jc_W0nT7"
      },
      "outputs": [],
      "source": [
        "#duas equipes\n",
        "\n",
        "CTFPFunction('https://raw.githubusercontent.com/natalialidia/analise-parlamentos/main/brcongress-instances/congress-2012-v1.g',\n",
        "             'https://raw.githubusercontent.com/natalialidia/analise-parlamentos/main/brcongress-instances/state-as-skill/2012.txt',\n",
        "             2,\n",
        "             6,\n",
        "             numUsersSep=\"\\t\")"
      ]
    },
    {
      "cell_type": "markdown",
      "metadata": {
        "id": "7ZsbGp7C5EM4"
      },
      "source": [
        "## 2013"
      ]
    },
    {
      "cell_type": "code",
      "execution_count": null,
      "metadata": {
        "id": "HvAyjfuv5LtC"
      },
      "outputs": [],
      "source": [
        "CTFPFunction('https://raw.githubusercontent.com/natalialidia/analise-parlamentos/main/brcongress-instances/congress-2013-v1.g',\n",
        "             'https://raw.githubusercontent.com/natalialidia/analise-parlamentos/main/brcongress-instances/state-as-skill/2013.txt',\n",
        "             2,\n",
        "             5,\n",
        "             numUsersSep=\"\\t\")"
      ]
    }
  ],
  "metadata": {
    "colab": {
      "collapsed_sections": [
        "1svK1BSv41tK",
        "TwrQS89E5Ac6",
        "7ZsbGp7C5EM4"
      ],
      "provenance": [],
      "authorship_tag": "ABX9TyM5mseIa1QSatYR2NNFrySs"
    },
    "kernelspec": {
      "display_name": "Python 3",
      "name": "python3"
    },
    "language_info": {
      "name": "python"
    }
  },
  "nbformat": 4,
  "nbformat_minor": 0
}