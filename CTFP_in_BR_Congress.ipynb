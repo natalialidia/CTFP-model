{
  "cells": [
    {
      "cell_type": "code",
      "execution_count": 1,
      "metadata": {
        "colab": {
          "base_uri": "https://localhost:8080/"
        },
        "id": "JKpq9D5EtjY_",
        "outputId": "5f03fe68-3cb5-4337-a69e-667b53ff9aa3"
      },
      "outputs": [
        {
          "output_type": "stream",
          "name": "stdout",
          "text": [
            "Looking in indexes: https://pypi.org/simple, https://us-python.pkg.dev/colab-wheels/public/simple/\n",
            "Requirement already satisfied: mip in /usr/local/lib/python3.7/dist-packages (1.14.1)\n",
            "Requirement already satisfied: cffi==1.15.0 in /usr/local/lib/python3.7/dist-packages (from mip) (1.15.0)\n",
            "Requirement already satisfied: pycparser in /usr/local/lib/python3.7/dist-packages (from cffi==1.15.0->mip) (2.21)\n"
          ]
        }
      ],
      "source": [
        "pip install mip"
      ]
    },
    {
      "cell_type": "code",
      "execution_count": 2,
      "metadata": {
        "id": "YN9oqZmLGn5Q"
      },
      "outputs": [],
      "source": [
        "import numpy as np\n",
        "import urllib.request \n",
        "from mip import Model, xsum, maximize, BINARY, LinExpr"
      ]
    },
    {
      "cell_type": "code",
      "execution_count": 3,
      "metadata": {
        "id": "s7e_0hYV6WRp"
      },
      "outputs": [],
      "source": [
        "def CTFPFunction(graphUrl, skillsUrl, numTeams, teamUsersProportion, graphSep = \"\\n\", numUsersSep = \" \", skillsSep = \"\\n\", numSkillsSep = \" \"):\n",
        "\n",
        "  #1 - CRIANDO MATRIZ DE ADJACÊNCIA DAS RELAÇÕES ENTRE OS USUÁRIOS\n",
        "  graph = urllib.request.urlopen(graphUrl).read().decode('utf-8').split(graphSep)\n",
        "  del graph[-1] #vazio\n",
        "\n",
        "  numUsers = int(graph[0].split(numUsersSep)[0])\n",
        "  relationships = np.zeros(numUsers*numUsers, dtype=np.int64).reshape(numUsers,numUsers)\n",
        "\n",
        "  for line in graph[1:]:\n",
        "    l = [x for x in line.split(\" \") if x]\n",
        "    l[0] = int(l[0])\n",
        "    l[1] = int(l[1])\n",
        "    l[2] = round(float(l[2]))\n",
        "    if int(l[0]) < numUsers and int(l[1]) < numUsers:\n",
        "      relationships[l[0],l[1]] = relationships[l[1],l[0]] = int(l[2])\n",
        "\n",
        "  print(f'Número usuários: {numUsers}')\n",
        "  print(f'Matriz de relacionamentos {relationships}')\n",
        "  print('\\n')\n",
        "\n",
        "\n",
        "  #2 - DEFININDO CONJUNTO DE SKILLS DE CADA USUÁRIO\n",
        "  skillsData = urllib.request.urlopen(skillsUrl).read().decode('utf-8').split(skillsSep)\n",
        "  numSkills = int(skillsData[0].split(numSkillsSep)[0])\n",
        "\n",
        "  print(f'Número de skills: {numSkills}')\n",
        "  print(f'Lista de skills: {skillsData[0].split(numSkillsSep)[1:]}')\n",
        "  print('\\n')\n",
        "\n",
        "\n",
        "  #3 - CONTANDO O NÚMERO DE USUÁRIOS PARA CADA SKILL\n",
        "  usersSkillsMatrix = np.zeros(numUsers*numSkills, dtype=np.int64).reshape(numUsers,numSkills)\n",
        "\n",
        "  for index,item in enumerate(skillsData[1:]):\n",
        "    usersSkillsMatrix[index] = np.asarray(item.split(\" \"))\n",
        "\n",
        "  numUsersBySkill = usersSkillsMatrix.sum(axis=0)\n",
        "\n",
        "\n",
        "  #4 - FUNÇÃO QUE RETORNA O CONJUNTO DE SKILLS DE UM USUÁRIO\n",
        "  def userSkillSet(user):\n",
        "    return np.asarray([id for id,s in enumerate(skillsData[user+1].split(\" \")) if s and int(s) == 1])\n",
        "\n",
        "  \n",
        "  #5 - DEFININDO DEMANDA DE USUÁRIOS POR SKILL PARA CADA TIME\n",
        "  teamDemand = np.full((numTeams, numSkills), 1, dtype=np.int64)\n",
        "\n",
        "  for index,item in enumerate(numUsersBySkill):\n",
        "    teamDemand[0][index] = round(item/teamUsersProportion)\n",
        "    teamDemand[1][index] = round(item/teamUsersProportion)\n",
        "\n",
        "  print(f'Demanda de cada time: {teamDemand}')\n",
        "  print('\\n')\n",
        "\n",
        "  #6 - CONJUNTO DE SKILLS QUE CADA TIME PRECISA\n",
        "  def demandSkillSet(team):\n",
        "    return np.asarray([id for id,s in enumerate(teamDemand[team]) if s > 0])\n",
        "\n",
        "\n",
        "  #7 - IMPLEMENTAÇÃO DO MODELO\n",
        "  model = Model(\"CTFP\")\n",
        "\n",
        "  #7.1 - Variáveis\n",
        "  x = [[[model.add_var(var_type=BINARY) for s in range(numSkills)] for u in range(numUsers)] for t in range(numTeams)]\n",
        "\n",
        "  #7.2 - Função objetivo\n",
        "  model.objective = maximize(xsum( xsum( xsum( x[t][u][s] for s in userSkillSet(u) ) for u in range(numUsers) ) for t in range(numTeams)))\n",
        "\n",
        "  #7.3 - Restrições\n",
        "\n",
        "  #restrição (63)\n",
        "  for t in range(numTeams):\n",
        "    for u in range(numUsers):\n",
        "      for v in range(numUsers):\n",
        "        if relationships[u,v] == -1:\n",
        "          model += xsum(x[t][u][s] for s in userSkillSet(u)) + xsum(x[t][v][s] for s in userSkillSet(v)) <= 1\n",
        "\n",
        "  #restrição (64)\n",
        "  for t1 in range(numTeams):\n",
        "    for t2 in np.arange(t1+1, numTeams, 1):\n",
        "      for u in range(numUsers):\n",
        "        for v in range(numUsers):\n",
        "          if relationships[u,v] == 1:\n",
        "            model += xsum(x[t1][u][s] for s in userSkillSet(u)) + xsum(x[t2][v][s] for s in userSkillSet(v)) <= 1\n",
        "\n",
        "  #restrição (65)\n",
        "  for u in range(numUsers):\n",
        "    model += xsum( xsum( x[t][u][s] for s in userSkillSet(u)) for t in range(numTeams)) <= 1\n",
        "\n",
        "  #restrição (66)\n",
        "  for t in range(numTeams):\n",
        "    for s in demandSkillSet(t):\n",
        "      model += xsum( x[t][u][s] for u in range(numUsers) if s in userSkillSet(u)) >= teamDemand[t,s]\n",
        "\n",
        "  model.optimize()\n",
        "\n",
        "  print('\\n\\n')\n",
        "\n",
        "  for teamIdx,team in enumerate(x):\n",
        "    usersCount = 0\n",
        "    skillsUsersCount = [0] * numSkills\n",
        "    for userIdx,user in enumerate(team):\n",
        "      for skillIdx,skill in enumerate(user):\n",
        "        skillsUsersCount[skillIdx] += skill.x\n",
        "        usersCount += skill.x\n",
        "    \n",
        "    print(f'Análise da equipe {teamIdx}')\n",
        "\n",
        "    skillsUsersCountStr = ' | '.join(str(ind)+': '+str(s) for ind, s in enumerate(skillsUsersCount))\n",
        "    print(f'Número de indivíduos na equipe: {usersCount}')\n",
        "    print(f'Número de indíviduos em cada skill: {skillsUsersCountStr}')\n",
        "\n",
        "    print('\\n')\n",
        "\n",
        "  print('\\n\\n')\n",
        "\n",
        "  print(f'Número de indivíduos alocados: {model.objective_value}')"
      ]
    },
    {
      "cell_type": "code",
      "source": [
        "CTFPFunction('https://raw.githubusercontent.com/natalialidia/analise-parlamentos/main/brcongress-instances/congress-2010-v1.g',\n",
        "             'https://raw.githubusercontent.com/natalialidia/analise-parlamentos/main/brcongress-instances/state-as-skill/2010.txt',\n",
        "             2,\n",
        "             5,\n",
        "             numUsersSep=\"\\t\")"
      ],
      "metadata": {
        "colab": {
          "base_uri": "https://localhost:8080/"
        },
        "id": "2qZt7takT2Lk",
        "outputId": "52deb7a2-79bb-4613-b972-ede109af2ec9"
      },
      "execution_count": 4,
      "outputs": [
        {
          "output_type": "stream",
          "name": "stdout",
          "text": [
            "Número usuários: 545\n",
            "Matriz de relacionamentos [[0 1 1 ... 0 1 1]\n",
            " [1 0 1 ... 0 1 0]\n",
            " [1 1 0 ... 0 1 1]\n",
            " ...\n",
            " [0 0 0 ... 0 0 0]\n",
            " [1 1 1 ... 0 0 0]\n",
            " [1 0 1 ... 0 0 0]]\n",
            "Número de skills: 27\n",
            "Demanda de cada time: [[11 14 10  9  5  2  2  6  4  6  2  2  2  5  2  3  2  4  2  2  2  2  4  2\n",
            "   2  2  2]\n",
            " [11 14 10  9  5  2  2  6  4  6  2  2  2  5  2  3  2  4  2  2  2  2  4  2\n",
            "   2  2  2]]\n",
            "\n",
            "\n",
            "Análise da equipe 0\n",
            "Número de indivíduos na equipe: 157.0\n",
            "Número de indíviduos em cada skill: 0: 14.0 | 1: 23.0 | 2: 19.0 | 3: 11.0 | 4: 7.0 | 5: 2.0 | 6: 4.0 | 7: 10.0 | 8: 4.0 | 9: 8.0 | 10: 2.0 | 11: 6.0 | 12: 3.0 | 13: 7.0 | 14: 2.0 | 15: 3.0 | 16: 3.0 | 17: 4.0 | 18: 2.0 | 19: 2.0 | 20: 2.0 | 21: 2.0 | 22: 7.0 | 23: 3.0 | 24: 3.0 | 25: 2.0 | 26: 2.0\n",
            "Análise da equipe 1\n",
            "Número de indivíduos na equipe: 174.0\n",
            "Número de indíviduos em cada skill: 0: 21.0 | 1: 26.0 | 2: 19.0 | 3: 15.0 | 4: 8.0 | 5: 2.0 | 6: 4.0 | 7: 7.0 | 8: 4.0 | 9: 6.0 | 10: 2.0 | 11: 2.0 | 12: 3.0 | 13: 8.0 | 14: 2.0 | 15: 4.0 | 16: 4.0 | 17: 7.0 | 18: 4.0 | 19: 3.0 | 20: 2.0 | 21: 3.0 | 22: 4.0 | 23: 3.0 | 24: 4.0 | 25: 4.0 | 26: 3.0\n",
            "\n",
            "\n",
            "Número de indivíduos alocados: 331.0\n"
          ]
        }
      ]
    },
    {
      "cell_type": "code",
      "source": [],
      "metadata": {
        "id": "8FusvLDlp5lo"
      },
      "execution_count": null,
      "outputs": []
    }
  ],
  "metadata": {
    "colab": {
      "collapsed_sections": [],
      "provenance": [],
      "authorship_tag": "ABX9TyMnxC2hT9F9dIdU21DVLqn7"
    },
    "kernelspec": {
      "display_name": "Python 3",
      "name": "python3"
    },
    "language_info": {
      "name": "python"
    }
  },
  "nbformat": 4,
  "nbformat_minor": 0
}